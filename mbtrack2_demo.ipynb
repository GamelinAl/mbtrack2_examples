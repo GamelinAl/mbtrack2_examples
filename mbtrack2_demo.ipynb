{
  "nbformat": 4,
  "nbformat_minor": 0,
  "metadata": {
    "colab": {
      "name": "mbtrack2_demo.ipynb",
      "provenance": [],
      "collapsed_sections": [],
      "authorship_tag": "ABX9TyN8N7Fp2AfhkffBvbExMeiV",
      "include_colab_link": true
    },
    "kernelspec": {
      "name": "python3",
      "display_name": "Python 3"
    },
    "language_info": {
      "name": "python"
    }
  },
  "cells": [
    {
      "cell_type": "markdown",
      "metadata": {
        "id": "view-in-github",
        "colab_type": "text"
      },
      "source": [
        "<a href=\"https://colab.research.google.com/github/GamelinAl/mbtrack2_examples/blob/main/mbtrack2_demo.ipynb\" target=\"_parent\"><img src=\"https://colab.research.google.com/assets/colab-badge.svg\" alt=\"Open In Colab\"/></a>"
      ]
    },
    {
      "cell_type": "markdown",
      "source": [
        "# Wellcome to the mbtrack2 demo !\n",
        "\n",
        "The idea behind **mbtrack2** is to build a **coherent object-oriented framework** to work on **collective effects** in synchrotrons. mbtrack2 is composed of different modules allowing to easily write scripts for **single bunch** or **multi-bunch** tracking using MPI parallelization\n",
        "in a transparent way. \n",
        "\n",
        "The base of the tracking model of mbtrack2 is inspired by **mbtrack**, a C multi-bunch tracking code initially developed at SOLEIL. In addition, many tools to prepare or analyse tracking simulations are included.\n",
        "\n",
        "The aim of this notebook is to demonstrate the main features of **mbtrack2** related to **tracking**."
      ],
      "metadata": {
        "id": "IKih_9pcq9Ui"
      }
    },
    {
      "cell_type": "markdown",
      "source": [
        "## Conventions\n",
        "\n",
        "### Tracking\n",
        "In **mbtrack2**, a particle is described as a point $(x,x',y,y',\\tau,\\delta)$ in the 6-dimensional phase-space: \n",
        "+ $x$ and $y$ are the horizontal and vertical position.\n",
        "+ $x'=\\frac{dx}{ds}$ and $y'=\\frac{dy}{ds}$ are the horizontal and vertical transverse momenta. \n",
        "+ $\\tau$ is the time difference with respect to the reference particle.\n",
        "+ $\\delta = \\frac{E - E_0}{E_0}$ is the relative energy deviation from the reference energy $E_0$. \n",
        "\n",
        "A particle is late compared to the reference particle if $\\tau > 0$.\n",
        "\n",
        "### Units\n",
        "mbtrack2 uses SI units.\n",
        "\n",
        "### RF\n",
        "mbtrack2 uses the cosine convention for RF voltage.\n",
        "\n",
        "### Array structure\n",
        "The arrays are strcutured as [horizontal_value, vertical_value, longitudinal_value]."
      ],
      "metadata": {
        "id": "zutgeXaaBjWg"
      }
    },
    {
      "cell_type": "markdown",
      "source": [
        "# Installation"
      ],
      "metadata": {
        "id": "O5fColz-q2EI"
      }
    },
    {
      "cell_type": "code",
      "execution_count": 1,
      "metadata": {
        "colab": {
          "base_uri": "https://localhost:8080/"
        },
        "id": "BKGTZA_EvtF6",
        "outputId": "1721707a-bdda-4401-9ce4-2803f26253bf"
      },
      "outputs": [
        {
          "output_type": "stream",
          "name": "stdout",
          "text": [
            "Cloning into 'mbtrack2'...\n",
            "remote: Enumerating objects: 1133, done.\u001b[K\n",
            "remote: Counting objects: 100% (225/225), done.\u001b[K\n",
            "remote: Compressing objects: 100% (76/76), done.\u001b[K\n",
            "remote: Total 1133 (delta 155), reused 214 (delta 148), pack-reused 908\u001b[K\n",
            "Receiving objects: 100% (1133/1133), 352.29 KiB | 10.67 MiB/s, done.\n",
            "Resolving deltas: 100% (752/752), done.\n"
          ]
        }
      ],
      "source": [
        "! git clone --single-branch --branch Prepare_version https://gitlab.synchrotron-soleil.fr/PA/collective-effects/mbtrack2.git"
      ]
    },
    {
      "cell_type": "code",
      "source": [
        "%cd mbtrack2"
      ],
      "metadata": {
        "colab": {
          "base_uri": "https://localhost:8080/",
          "height": 53
        },
        "id": "aIwNdoXlVDus",
        "outputId": "a9a0ff62-ce7a-48aa-8b75-1a8fa61e9ec2"
      },
      "execution_count": 4,
      "outputs": [
        {
          "output_type": "stream",
          "name": "stdout",
          "text": [
            "/content/mbtrack2\n"
          ]
        },
        {
          "output_type": "execute_result",
          "data": {
            "text/plain": [
              "'/content/mbtrack2'"
            ],
            "application/vnd.google.colaboratory.intrinsic+json": {
              "type": "string"
            }
          },
          "metadata": {},
          "execution_count": 4
        }
      ]
    },
    {
      "cell_type": "code",
      "source": [
        "pip install -r requirements.txt"
      ],
      "metadata": {
        "colab": {
          "base_uri": "https://localhost:8080/"
        },
        "id": "hEbdSRmKRkFS",
        "outputId": "57dd05ca-3cc8-40d3-e913-2587af7afbaa"
      },
      "execution_count": 6,
      "outputs": [
        {
          "output_type": "stream",
          "name": "stdout",
          "text": [
            "Requirement already satisfied: numpy in /usr/local/lib/python3.7/dist-packages (from -r requirements.txt (line 1)) (1.21.5)\n",
            "Requirement already satisfied: pandas in /usr/local/lib/python3.7/dist-packages (from -r requirements.txt (line 2)) (1.3.5)\n",
            "Requirement already satisfied: scipy in /usr/local/lib/python3.7/dist-packages (from -r requirements.txt (line 3)) (1.4.1)\n",
            "Requirement already satisfied: h5py in /usr/local/lib/python3.7/dist-packages (from -r requirements.txt (line 4)) (3.1.0)\n",
            "Collecting mpi4py\n",
            "  Downloading mpi4py-3.1.3.tar.gz (2.5 MB)\n",
            "\u001b[K     |████████████████████████████████| 2.5 MB 16.1 MB/s \n",
            "\u001b[?25h  Installing build dependencies ... \u001b[?25l\u001b[?25hdone\n",
            "  Getting requirements to build wheel ... \u001b[?25l\u001b[?25hdone\n",
            "    Preparing wheel metadata ... \u001b[?25l\u001b[?25hdone\n",
            "Requirement already satisfied: matplotlib in /usr/local/lib/python3.7/dist-packages (from -r requirements.txt (line 6)) (3.2.2)\n",
            "Requirement already satisfied: seaborn in /usr/local/lib/python3.7/dist-packages (from -r requirements.txt (line 7)) (0.11.2)\n",
            "Requirement already satisfied: mpmath in /usr/local/lib/python3.7/dist-packages (from -r requirements.txt (line 8)) (1.2.1)\n",
            "Requirement already satisfied: ipykernel in /usr/local/lib/python3.7/dist-packages (from -r requirements.txt (line 9)) (4.10.1)\n",
            "Requirement already satisfied: python-dateutil>=2.7.3 in /usr/local/lib/python3.7/dist-packages (from pandas->-r requirements.txt (line 2)) (2.8.2)\n",
            "Requirement already satisfied: pytz>=2017.3 in /usr/local/lib/python3.7/dist-packages (from pandas->-r requirements.txt (line 2)) (2018.9)\n",
            "Requirement already satisfied: six>=1.5 in /usr/local/lib/python3.7/dist-packages (from python-dateutil>=2.7.3->pandas->-r requirements.txt (line 2)) (1.15.0)\n",
            "Requirement already satisfied: cached-property in /usr/local/lib/python3.7/dist-packages (from h5py->-r requirements.txt (line 4)) (1.5.2)\n",
            "Requirement already satisfied: kiwisolver>=1.0.1 in /usr/local/lib/python3.7/dist-packages (from matplotlib->-r requirements.txt (line 6)) (1.4.0)\n",
            "Requirement already satisfied: pyparsing!=2.0.4,!=2.1.2,!=2.1.6,>=2.0.1 in /usr/local/lib/python3.7/dist-packages (from matplotlib->-r requirements.txt (line 6)) (3.0.7)\n",
            "Requirement already satisfied: cycler>=0.10 in /usr/local/lib/python3.7/dist-packages (from matplotlib->-r requirements.txt (line 6)) (0.11.0)\n",
            "Requirement already satisfied: typing-extensions in /usr/local/lib/python3.7/dist-packages (from kiwisolver>=1.0.1->matplotlib->-r requirements.txt (line 6)) (3.10.0.2)\n",
            "Requirement already satisfied: ipython>=4.0.0 in /usr/local/lib/python3.7/dist-packages (from ipykernel->-r requirements.txt (line 9)) (5.5.0)\n",
            "Requirement already satisfied: jupyter-client in /usr/local/lib/python3.7/dist-packages (from ipykernel->-r requirements.txt (line 9)) (5.3.5)\n",
            "Requirement already satisfied: traitlets>=4.1.0 in /usr/local/lib/python3.7/dist-packages (from ipykernel->-r requirements.txt (line 9)) (5.1.1)\n",
            "Requirement already satisfied: tornado>=4.0 in /usr/local/lib/python3.7/dist-packages (from ipykernel->-r requirements.txt (line 9)) (5.1.1)\n",
            "Requirement already satisfied: pickleshare in /usr/local/lib/python3.7/dist-packages (from ipython>=4.0.0->ipykernel->-r requirements.txt (line 9)) (0.7.5)\n",
            "Requirement already satisfied: pygments in /usr/local/lib/python3.7/dist-packages (from ipython>=4.0.0->ipykernel->-r requirements.txt (line 9)) (2.6.1)\n",
            "Requirement already satisfied: prompt-toolkit<2.0.0,>=1.0.4 in /usr/local/lib/python3.7/dist-packages (from ipython>=4.0.0->ipykernel->-r requirements.txt (line 9)) (1.0.18)\n",
            "Requirement already satisfied: setuptools>=18.5 in /usr/local/lib/python3.7/dist-packages (from ipython>=4.0.0->ipykernel->-r requirements.txt (line 9)) (57.4.0)\n",
            "Requirement already satisfied: pexpect in /usr/local/lib/python3.7/dist-packages (from ipython>=4.0.0->ipykernel->-r requirements.txt (line 9)) (4.8.0)\n",
            "Requirement already satisfied: decorator in /usr/local/lib/python3.7/dist-packages (from ipython>=4.0.0->ipykernel->-r requirements.txt (line 9)) (4.4.2)\n",
            "Requirement already satisfied: simplegeneric>0.8 in /usr/local/lib/python3.7/dist-packages (from ipython>=4.0.0->ipykernel->-r requirements.txt (line 9)) (0.8.1)\n",
            "Requirement already satisfied: wcwidth in /usr/local/lib/python3.7/dist-packages (from prompt-toolkit<2.0.0,>=1.0.4->ipython>=4.0.0->ipykernel->-r requirements.txt (line 9)) (0.2.5)\n",
            "Requirement already satisfied: jupyter-core>=4.6.0 in /usr/local/lib/python3.7/dist-packages (from jupyter-client->ipykernel->-r requirements.txt (line 9)) (4.9.2)\n",
            "Requirement already satisfied: pyzmq>=13 in /usr/local/lib/python3.7/dist-packages (from jupyter-client->ipykernel->-r requirements.txt (line 9)) (22.3.0)\n",
            "Requirement already satisfied: ptyprocess>=0.5 in /usr/local/lib/python3.7/dist-packages (from pexpect->ipython>=4.0.0->ipykernel->-r requirements.txt (line 9)) (0.7.0)\n",
            "Building wheels for collected packages: mpi4py\n",
            "  Building wheel for mpi4py (PEP 517) ... \u001b[?25l\u001b[?25hdone\n",
            "  Created wheel for mpi4py: filename=mpi4py-3.1.3-cp37-cp37m-linux_x86_64.whl size=2185299 sha256=01106a1ffd35c71ba49d9bd89870d6dcc4ec8a14638f4daf20d6be5fcca86fc4\n",
            "  Stored in directory: /root/.cache/pip/wheels/7a/07/14/6a0c63fa2c6e473c6edc40985b7d89f05c61ff25ee7f0ad9ac\n",
            "Successfully built mpi4py\n",
            "Installing collected packages: mpi4py\n",
            "Successfully installed mpi4py-3.1.3\n"
          ]
        }
      ]
    },
    {
      "cell_type": "markdown",
      "source": [
        "# Synchrotron object"
      ],
      "metadata": {
        "id": "-CHO7pYlsa76"
      }
    },
    {
      "cell_type": "code",
      "source": [
        "import numpy as np\n",
        "from mbtrack2.tracking import Synchrotron, Electron\n",
        "from mbtrack2.utilities import Optics"
      ],
      "metadata": {
        "id": "ewMLyHDOslSD"
      },
      "execution_count": 8,
      "outputs": []
    },
    {
      "cell_type": "markdown",
      "source": [
        "To known how to use and define mbtrack2 classes, use the help:\n",
        "\n",
        "\n",
        "```\n",
        "help(Synchrotron)\n",
        "```\n",
        "\n"
      ],
      "metadata": {
        "id": "WsbeELvuyder"
      }
    },
    {
      "cell_type": "markdown",
      "source": [
        "Let us define some paramter for our synchrotron:"
      ],
      "metadata": {
        "id": "07gwix3w1Fat"
      }
    },
    {
      "cell_type": "code",
      "source": [
        "h = 20 # Harmonic number of the accelerator.\n",
        "L = 100 # Ring circumference in [m].\n",
        "E0 = 1.5e9 # Nominal (total) energy of the ring in [eV].\n",
        "particle = Electron() # Particle considered.\n",
        "ac = 1e-3 # Momentum compaction factor.\n",
        "U0 = 200e3 # Energy loss per turn in [eV].\n",
        "tau = np.array([1e-3, 1e-3, 2e-3]) # Horizontal, vertical and longitudinal damping times in [s].\n",
        "tune = np.array([12.2, 15.3]) # Horizontal and vertical tunes.\n",
        "emit = np.array([10e-9, 10e-12]) # Horizontal and vertical equilibrium emittance in [m.rad].\n",
        "sigma_0 = 15e-12 # Natural bunch length in [s].\n",
        "sigma_delta = 1e-3 # Equilibrium energy spread.\n",
        "chro = [2.0, 3.0] # Horizontal and vertical (non-normalized) chromaticities."
      ],
      "metadata": {
        "id": "GH7V8wmmxH4i"
      },
      "execution_count": 10,
      "outputs": []
    },
    {
      "cell_type": "markdown",
      "source": [
        "The `Optics` class stores optic functions related values.\n",
        "\n",
        "Here we define the values of the optic functions at the tracking location:"
      ],
      "metadata": {
        "id": "edkvIwjs1vdK"
      }
    },
    {
      "cell_type": "code",
      "source": [
        "local_beta = np.array([3, 2]) # Beta function at the tracking location.\n",
        "local_alpha = np.array([0, 0]) # Alpha function at the tracking location.\n",
        "local_dispersion = np.array([0, 0, 0, 0]) # Dispersion function and its derivative at the tracking location.\n",
        "optics = Optics(local_beta=local_beta, local_alpha=local_alpha, \n",
        "                  local_dispersion=local_dispersion)"
      ],
      "metadata": {
        "id": "yY9Fh3JR1rQy"
      },
      "execution_count": 11,
      "outputs": []
    },
    {
      "cell_type": "markdown",
      "source": [
        "The `Synchrotron` class stores most global lattice parameters:"
      ],
      "metadata": {
        "id": "D41nqm3b2aqH"
      }
    },
    {
      "cell_type": "code",
      "source": [
        "ring = Synchrotron(h=h, optics=optics, particle=particle, L=L, E0=E0, ac=ac, \n",
        "                   U0=U0, tau=tau, emit=emit, tune=tune, \n",
        "                   sigma_delta=sigma_delta, sigma_0=sigma_0, chro=chro)"
      ],
      "metadata": {
        "id": "WiPq6SDLvbjC"
      },
      "execution_count": 12,
      "outputs": []
    },
    {
      "cell_type": "markdown",
      "source": [
        "Now the `Synchrotron` object can be used:"
      ],
      "metadata": {
        "id": "sP2NaRwt3yRM"
      }
    },
    {
      "cell_type": "code",
      "source": [
        "ring.T0 # Revolution time in [s]."
      ],
      "metadata": {
        "colab": {
          "base_uri": "https://localhost:8080/"
        },
        "id": "fr96wM893xLc",
        "outputId": "787aa93f-b086-44cd-fbf1-c95ba66b5fcf"
      },
      "execution_count": 13,
      "outputs": [
        {
          "output_type": "execute_result",
          "data": {
            "text/plain": [
              "3.3356409519815204e-07"
            ]
          },
          "metadata": {},
          "execution_count": 13
        }
      ]
    },
    {
      "cell_type": "code",
      "source": [
        "ring.f1 # Fundamental RF frequency in [Hz]."
      ],
      "metadata": {
        "colab": {
          "base_uri": "https://localhost:8080/"
        },
        "id": "EDTia9Ol5IGk",
        "outputId": "b0486ce8-a46e-4147-d2cd-72238480950d"
      },
      "execution_count": 14,
      "outputs": [
        {
          "output_type": "execute_result",
          "data": {
            "text/plain": [
              "59958491.6"
            ]
          },
          "metadata": {},
          "execution_count": 14
        }
      ]
    },
    {
      "cell_type": "code",
      "source": [
        "ring.gamma # Relativistic Lorentz gamma."
      ],
      "metadata": {
        "colab": {
          "base_uri": "https://localhost:8080/"
        },
        "id": "EBsio2fw5PCU",
        "outputId": "82fe49d9-20cc-4072-a62f-7edc9d409015"
      },
      "execution_count": 15,
      "outputs": [
        {
          "output_type": "execute_result",
          "data": {
            "text/plain": [
              "2935.42677536081"
            ]
          },
          "metadata": {},
          "execution_count": 15
        }
      ]
    },
    {
      "cell_type": "markdown",
      "source": [
        "Most class attributes in mbtrack are dynamically linked when possible:"
      ],
      "metadata": {
        "id": "Jemrr4Ey5nZu"
      }
    },
    {
      "cell_type": "code",
      "source": [
        "ring.T0 = 1e-6 # Revolution time in [s].\n",
        "ring.L # Ring circumference in [m]."
      ],
      "metadata": {
        "colab": {
          "base_uri": "https://localhost:8080/"
        },
        "id": "lf5h3gTj5xGk",
        "outputId": "c4cfbf18-9ec3-4995-d6df-8ab812b248e4"
      },
      "execution_count": 16,
      "outputs": [
        {
          "output_type": "execute_result",
          "data": {
            "text/plain": [
              "299.792458"
            ]
          },
          "metadata": {},
          "execution_count": 16
        }
      ]
    },
    {
      "cell_type": "markdown",
      "source": [
        "An Accelerator Toolbox (AT) format lattice can also be loaded using:\n",
        "\n",
        "\n",
        "```\n",
        "optics = Optics(lattice_file=lattice_file)\n",
        "ring = Synchrotron(h, optics, particle)\n",
        "```\n",
        "In that case, the AT lattice paramters are used to fill the `Synchrotron` object.\n"
      ],
      "metadata": {
        "id": "_-sj3Jlu37Rc"
      }
    },
    {
      "cell_type": "markdown",
      "source": [
        "Main conventions used:\n",
        "+ mbtrack2 uses SI units.\n",
        "+ the arrays are strcutured as `[horizontal_value, vertical_value, longitudinal_value]`."
      ],
      "metadata": {
        "id": "ZriCgRYIzkvr"
      }
    },
    {
      "cell_type": "markdown",
      "source": [
        "# Bunch and Beam objects"
      ],
      "metadata": {
        "id": "OW9YgunevfKb"
      }
    },
    {
      "cell_type": "code",
      "source": [
        "from mbtrack2.tracking import Bunch, Beam"
      ],
      "metadata": {
        "id": "ne2yGLJ06s6O"
      },
      "execution_count": 17,
      "outputs": []
    },
    {
      "cell_type": "markdown",
      "source": [
        "## Bunch"
      ],
      "metadata": {
        "id": "TCu24f639KrW"
      }
    },
    {
      "cell_type": "markdown",
      "source": [
        "Defines a `Bunch` object with 5 macro-particles and a current of 1 mA:"
      ],
      "metadata": {
        "id": "k9_SrmgK-gSN"
      }
    },
    {
      "cell_type": "code",
      "source": [
        "mybunch = Bunch(ring, mp_number=5, current=1e-3)\n",
        "mybunch"
      ],
      "metadata": {
        "colab": {
          "base_uri": "https://localhost:8080/"
        },
        "id": "FSu6AiVB62bd",
        "outputId": "d863c50e-94e6-41d1-e8f8-bd5fd73c9d4f"
      },
      "execution_count": 18,
      "outputs": [
        {
          "output_type": "execute_result",
          "data": {
            "text/plain": [
              "     x   xp    y   yp  tau  delta\n",
              "0  0.0  0.0  0.0  0.0  0.0    0.0\n",
              "1  0.0  0.0  0.0  0.0  0.0    0.0\n",
              "2  0.0  0.0  0.0  0.0  0.0    0.0\n",
              "3  0.0  0.0  0.0  0.0  0.0    0.0\n",
              "4  0.0  0.0  0.0  0.0  0.0    0.0"
            ]
          },
          "metadata": {},
          "execution_count": 18
        }
      ]
    },
    {
      "cell_type": "markdown",
      "source": [
        "The coordinates for a single dimension can be accessed by brackets:"
      ],
      "metadata": {
        "id": "-ZLDs32W-rxN"
      }
    },
    {
      "cell_type": "code",
      "source": [
        "mybunch[\"x\"]"
      ],
      "metadata": {
        "colab": {
          "base_uri": "https://localhost:8080/"
        },
        "id": "fYYWiGaH8PGt",
        "outputId": "f9e322d6-d5bc-4bc6-8791-fb169b1bf5f2"
      },
      "execution_count": 19,
      "outputs": [
        {
          "output_type": "execute_result",
          "data": {
            "text/plain": [
              "array([0., 0., 0., 0., 0.])"
            ]
          },
          "metadata": {},
          "execution_count": 19
        }
      ]
    },
    {
      "cell_type": "code",
      "source": [
        "mybunch[\"x\"] += 1e-3 # add 1 mm offset in horizontal dimension\n",
        "mybunch"
      ],
      "metadata": {
        "colab": {
          "base_uri": "https://localhost:8080/"
        },
        "id": "qHfFJlD38SVE",
        "outputId": "57f17332-7319-4825-d96b-07f0f780de18"
      },
      "execution_count": 20,
      "outputs": [
        {
          "output_type": "execute_result",
          "data": {
            "text/plain": [
              "       x   xp    y   yp  tau  delta\n",
              "0  0.001  0.0  0.0  0.0  0.0    0.0\n",
              "1  0.001  0.0  0.0  0.0  0.0    0.0\n",
              "2  0.001  0.0  0.0  0.0  0.0    0.0\n",
              "3  0.001  0.0  0.0  0.0  0.0    0.0\n",
              "4  0.001  0.0  0.0  0.0  0.0    0.0"
            ]
          },
          "metadata": {},
          "execution_count": 20
        }
      ]
    },
    {
      "cell_type": "markdown",
      "source": [
        "Initialize the bunch macro-particles to have gaussian distribution corresponding to the `Synchrotron` object equilibrium parameters:"
      ],
      "metadata": {
        "id": "vtAPNcAX_CX9"
      }
    },
    {
      "cell_type": "code",
      "source": [
        "mybunch.init_gaussian()\n",
        "mybunch"
      ],
      "metadata": {
        "colab": {
          "base_uri": "https://localhost:8080/"
        },
        "id": "bfquwwF28GZN",
        "outputId": "aaeaf2f5-1c87-43f5-993b-c6b37bb6486c"
      },
      "execution_count": 21,
      "outputs": [
        {
          "output_type": "execute_result",
          "data": {
            "text/plain": [
              "          x            xp             y            yp           tau     delta\n",
              "0 -0.000081  3.593163e-05  1.615817e-06 -2.048193e-06 -1.017788e-11  0.000223\n",
              "1  0.000060  1.291383e-04 -6.040691e-06 -1.718259e-06  2.329156e-11 -0.000822\n",
              "2 -0.000274 -7.514302e-05  1.545594e-07 -8.736202e-07 -1.021583e-11  0.001495\n",
              "3  0.000009 -1.775605e-07 -3.192854e-06  9.869157e-07  3.241319e-13  0.000144\n",
              "4 -0.000207 -2.746380e-05  5.230748e-06 -4.010652e-06 -2.944788e-11 -0.000575"
            ]
          },
          "metadata": {},
          "execution_count": 21
        }
      ]
    },
    {
      "cell_type": "markdown",
      "source": [
        "Compute statistical quantities for each dimensions:"
      ],
      "metadata": {
        "id": "rQg66J_a-Kmf"
      }
    },
    {
      "cell_type": "code",
      "source": [
        "mybunch.mean # Mean position of alive particles for each coordinates."
      ],
      "metadata": {
        "colab": {
          "base_uri": "https://localhost:8080/"
        },
        "id": "goQf8y_Z9msV",
        "outputId": "51de0254-13e4-4431-f96c-8c71f8512c5d"
      },
      "execution_count": 22,
      "outputs": [
        {
          "output_type": "execute_result",
          "data": {
            "text/plain": [
              "array([-9.83692639e-05,  1.24571021e-05, -4.46483941e-07, -1.53276162e-06,\n",
              "       -5.24517805e-12,  9.33595731e-05])"
            ]
          },
          "metadata": {},
          "execution_count": 22
        }
      ]
    },
    {
      "cell_type": "code",
      "source": [
        "mybunch.std # Standard deviation of the position of alive particles for each coordinates."
      ],
      "metadata": {
        "colab": {
          "base_uri": "https://localhost:8080/"
        },
        "outputId": "7594f048-756a-4b5e-9818-c05ac923fd65",
        "id": "WGSbxuqz9yd-"
      },
      "execution_count": 23,
      "outputs": [
        {
          "output_type": "execute_result",
          "data": {
            "text/plain": [
              "array([1.26118008e-04, 6.86915485e-05, 3.89057826e-06, 1.62623851e-06,\n",
              "       1.72056520e-11, 8.08602854e-04])"
            ]
          },
          "metadata": {},
          "execution_count": 23
        }
      ]
    },
    {
      "cell_type": "code",
      "source": [
        "mybunch.emit # Bunch emittance for each plane."
      ],
      "metadata": {
        "colab": {
          "base_uri": "https://localhost:8080/"
        },
        "outputId": "f68f9bf5-4d36-4679-e405-f4fa911ad0dd",
        "id": "wVxnRwNa92dP"
      },
      "execution_count": 24,
      "outputs": [
        {
          "output_type": "execute_result",
          "data": {
            "text/plain": [
              "array([9.27449743e-09, 8.04744449e-12, 1.41003977e-14])"
            ]
          },
          "metadata": {},
          "execution_count": 24
        }
      ]
    },
    {
      "cell_type": "markdown",
      "source": [
        "Change the bunch current:"
      ],
      "metadata": {
        "id": "wxGJdCug_toP"
      }
    },
    {
      "cell_type": "code",
      "source": [
        "mybunch.current # bunch current in [A]"
      ],
      "metadata": {
        "colab": {
          "base_uri": "https://localhost:8080/"
        },
        "id": "zvogt_6F8qf9",
        "outputId": "1330b377-f920-4b99-e93f-1ba1b97c23cb"
      },
      "execution_count": 25,
      "outputs": [
        {
          "output_type": "execute_result",
          "data": {
            "text/plain": [
              "0.001"
            ]
          },
          "metadata": {},
          "execution_count": 25
        }
      ]
    },
    {
      "cell_type": "code",
      "source": [
        "mybunch.charge = 5e-9 # charge in [C]\n",
        "mybunch.current"
      ],
      "metadata": {
        "colab": {
          "base_uri": "https://localhost:8080/"
        },
        "id": "YjJnW_bS83M-",
        "outputId": "1f1abf83-b42d-45ee-a8ca-b51e17d70908"
      },
      "execution_count": 26,
      "outputs": [
        {
          "output_type": "execute_result",
          "data": {
            "text/plain": [
              "0.005"
            ]
          },
          "metadata": {},
          "execution_count": 26
        }
      ]
    },
    {
      "cell_type": "markdown",
      "source": [
        "This boolean array shows which macro-particles are still \"alive\" and thoses which are lost:"
      ],
      "metadata": {
        "id": "iwvnYOC3Goiz"
      }
    },
    {
      "cell_type": "code",
      "source": [
        "mybunch.alive"
      ],
      "metadata": {
        "colab": {
          "base_uri": "https://localhost:8080/"
        },
        "id": "ecLdAvVGGowh",
        "outputId": "4991fa85-b420-4767-f217-3f4c5e933f84"
      },
      "execution_count": 27,
      "outputs": [
        {
          "output_type": "execute_result",
          "data": {
            "text/plain": [
              "array([ True,  True,  True,  True,  True])"
            ]
          },
          "metadata": {},
          "execution_count": 27
        }
      ]
    },
    {
      "cell_type": "code",
      "source": [
        "mybunch.alive[2] = False\n",
        "mybunch.alive"
      ],
      "metadata": {
        "colab": {
          "base_uri": "https://localhost:8080/"
        },
        "id": "5LD2UhGzGwXh",
        "outputId": "fb823bcc-98eb-4fc7-9571-67cbc20a1d88"
      },
      "execution_count": 28,
      "outputs": [
        {
          "output_type": "execute_result",
          "data": {
            "text/plain": [
              "array([ True,  True, False,  True,  True])"
            ]
          },
          "metadata": {},
          "execution_count": 28
        }
      ]
    },
    {
      "cell_type": "markdown",
      "source": [
        "Lost marco-particles are no longer taken in account for the tracking or to compute bunch parameters:"
      ],
      "metadata": {
        "id": "9rHqIEbiH0W6"
      }
    },
    {
      "cell_type": "code",
      "source": [
        "mybunch.current"
      ],
      "metadata": {
        "colab": {
          "base_uri": "https://localhost:8080/"
        },
        "id": "ZM0TIBMQHCIh",
        "outputId": "090bfa66-51e5-4131-c768-a10a265abc73"
      },
      "execution_count": 29,
      "outputs": [
        {
          "output_type": "execute_result",
          "data": {
            "text/plain": [
              "0.004"
            ]
          },
          "metadata": {},
          "execution_count": 29
        }
      ]
    },
    {
      "cell_type": "code",
      "source": [
        "mybunch"
      ],
      "metadata": {
        "colab": {
          "base_uri": "https://localhost:8080/"
        },
        "id": "VvJr03_fG2-R",
        "outputId": "5cf27cf2-724c-4b4e-a561-20d68f2de460"
      },
      "execution_count": 30,
      "outputs": [
        {
          "output_type": "execute_result",
          "data": {
            "text/plain": [
              "          x            xp         y            yp           tau     delta\n",
              "0 -0.000081  3.593163e-05  0.000002 -2.048193e-06 -1.017788e-11  0.000223\n",
              "1  0.000060  1.291383e-04 -0.000006 -1.718259e-06  2.329156e-11 -0.000822\n",
              "2  0.000009 -1.775605e-07 -0.000003  9.869157e-07  3.241319e-13  0.000144\n",
              "3 -0.000207 -2.746380e-05  0.000005 -4.010652e-06 -2.944788e-11 -0.000575"
            ]
          },
          "metadata": {},
          "execution_count": 30
        }
      ]
    },
    {
      "cell_type": "markdown",
      "source": [
        "## Beam"
      ],
      "metadata": {
        "id": "P63zTaJy9ODW"
      }
    },
    {
      "cell_type": "markdown",
      "source": [
        "The `Beam` class is defined like an array container for `Bunch` objects:"
      ],
      "metadata": {
        "id": "uhXjn-9OFprq"
      }
    },
    {
      "cell_type": "code",
      "source": [
        "mybeam = Beam(ring) # define an empty beam\n",
        "mybeam[0] # no bunch in the 1st RF bucket as the beam is empty"
      ],
      "metadata": {
        "colab": {
          "base_uri": "https://localhost:8080/"
        },
        "id": "-BvT1LHlLG0x",
        "outputId": "11439422-cf82-446c-c9d0-ee09ad83e8d5"
      },
      "execution_count": 31,
      "outputs": [
        {
          "output_type": "execute_result",
          "data": {
            "text/plain": [
              "Empty DataFrame\n",
              "Columns: [x, xp, y, yp, tau, delta]\n",
              "Index: []"
            ]
          },
          "metadata": {},
          "execution_count": 31
        }
      ]
    },
    {
      "cell_type": "markdown",
      "source": [
        "Define a filling pattern for our beam:"
      ],
      "metadata": {
        "id": "ksWbaINQMW_B"
      }
    },
    {
      "cell_type": "code",
      "source": [
        "filling_pattern = np.zeros(ring.h) # empty array of size ring.h\n",
        "filling_pattern[0:10] = 10e-3 # the first 10 bunches will be filled with 10 mA\n",
        "filling_pattern[10:15] = 5e-3\n",
        "filling_pattern[15:20] = 20e-3"
      ],
      "metadata": {
        "id": "Gu6w6ARULRGw"
      },
      "execution_count": 32,
      "outputs": []
    },
    {
      "cell_type": "markdown",
      "source": [
        "Initialize our `Beam` object with a given filling pattern and 1000 macro-particles per bunch:"
      ],
      "metadata": {
        "id": "Q00sKqy0LYLC"
      }
    },
    {
      "cell_type": "code",
      "source": [
        "mybeam.init_beam(filling_pattern, mp_per_bunch=1e3)"
      ],
      "metadata": {
        "id": "4y4gLQpPxKdi"
      },
      "execution_count": 33,
      "outputs": []
    },
    {
      "cell_type": "markdown",
      "source": [
        "It is possible to access the bunch located in the $n^{th}$ RF bucket using brackets:  "
      ],
      "metadata": {
        "id": "QfGks1tzNAYK"
      }
    },
    {
      "cell_type": "code",
      "source": [
        "mybeam[5]"
      ],
      "metadata": {
        "colab": {
          "base_uri": "https://localhost:8080/"
        },
        "id": "OrlG-LEJM5ci",
        "outputId": "8f2988b2-359c-477d-f4d2-a2783ad16634"
      },
      "execution_count": 34,
      "outputs": [
        {
          "output_type": "execute_result",
          "data": {
            "text/plain": [
              "            x        xp             y            yp           tau     delta\n",
              "0    0.000008 -0.000010  2.550739e-06 -3.323539e-06  1.680645e-11  0.000585\n",
              "1    0.000094 -0.000098 -4.860216e-06  3.237506e-06 -1.368915e-11 -0.000618\n",
              "2    0.000062  0.000047 -4.079207e-06  2.157595e-06 -4.018424e-13  0.002139\n",
              "3   -0.000081  0.000048 -2.143551e-06  6.236529e-07  5.667458e-12  0.000899\n",
              "4   -0.000021 -0.000002 -1.663657e-06 -1.286297e-06  1.493874e-11 -0.000431\n",
              "..        ...       ...           ...           ...           ...       ...\n",
              "995  0.000140 -0.000063  8.585022e-07 -2.067933e-06 -2.342164e-12  0.000162\n",
              "996 -0.000058 -0.000046 -3.295427e-06 -7.566553e-07  7.760749e-12  0.000514\n",
              "997  0.000054  0.000100 -2.913487e-06 -8.777578e-07 -1.089380e-11  0.001442\n",
              "998 -0.000034  0.000167  3.754746e-06  1.859421e-06 -9.420919e-12  0.000461\n",
              "999 -0.000449  0.000004  1.817603e-06 -2.397750e-06  8.014000e-12  0.001924\n",
              "\n",
              "[1000 rows x 6 columns]"
            ]
          },
          "metadata": {},
          "execution_count": 34
        }
      ]
    },
    {
      "cell_type": "markdown",
      "source": [
        "Beam and bunch parameters can be accessed:"
      ],
      "metadata": {
        "id": "20bTKa2cNqAy"
      }
    },
    {
      "cell_type": "code",
      "source": [
        "mybeam.current # Total beam current in [A]"
      ],
      "metadata": {
        "colab": {
          "base_uri": "https://localhost:8080/"
        },
        "id": "J8FQ-O9UN5KB",
        "outputId": "7adcc9cb-dc8a-4846-e132-d37001310680"
      },
      "execution_count": 35,
      "outputs": [
        {
          "output_type": "execute_result",
          "data": {
            "text/plain": [
              "0.22499999999999998"
            ]
          },
          "metadata": {},
          "execution_count": 35
        }
      ]
    },
    {
      "cell_type": "code",
      "source": [
        "mybeam.bunch_current # Current in each bunch in [A]"
      ],
      "metadata": {
        "colab": {
          "base_uri": "https://localhost:8080/"
        },
        "id": "rHVy7Yc4N5OR",
        "outputId": "ed1a1047-e1cb-4c60-e5bf-7b07e616ba47"
      },
      "execution_count": 36,
      "outputs": [
        {
          "output_type": "execute_result",
          "data": {
            "text/plain": [
              "array([0.01 , 0.01 , 0.01 , 0.01 , 0.01 , 0.01 , 0.01 , 0.01 , 0.01 ,\n",
              "       0.01 , 0.005, 0.005, 0.005, 0.005, 0.005, 0.02 , 0.02 , 0.02 ,\n",
              "       0.02 , 0.02 ])"
            ]
          },
          "metadata": {},
          "execution_count": 36
        }
      ]
    },
    {
      "cell_type": "code",
      "source": [
        "fig = mybeam.plot(\"bunch_current\")"
      ],
      "metadata": {
        "colab": {
          "base_uri": "https://localhost:8080/",
          "height": 279
        },
        "id": "ojlDHKd0L3QB",
        "outputId": "55cd5974-184a-409c-9caa-3005a0d97ffd"
      },
      "execution_count": 37,
      "outputs": [
        {
          "output_type": "display_data",
          "data": {
            "text/plain": [
              "<Figure size 432x288 with 1 Axes>"
            ],
            "image/png": "[encoded data removed]"
          },
          "metadata": {
            "needs_background": "light"
          }
        }
      ]
    },
    {
      "cell_type": "code",
      "source": [
        "fig = mybeam.plot(\"bunch_emit\",\"x\")"
      ],
      "metadata": {
        "colab": {
          "base_uri": "https://localhost:8080/",
          "height": 279
        },
        "id": "giCTESPhZHLg",
        "outputId": "2b895612-ba36-46e1-e6a8-41d9c4413df2"
      },
      "execution_count": 38,
      "outputs": [
        {
          "output_type": "display_data",
          "data": {
            "text/plain": [
              "<Figure size 432x288 with 1 Axes>"
            ],
            "image/png": "[encoded data removed]"
          },
          "metadata": {
            "needs_background": "light"
          }
        }
      ]
    },
    {
      "cell_type": "markdown",
      "source": [
        "# Tracking"
      ],
      "metadata": {
        "id": "bT_CpT4F_0tv"
      }
    },
    {
      "cell_type": "markdown",
      "source": [
        "In mbtrack2, tracking is done by calling the `track` method from different objects. This `track` method applies a transformation to the macro-particles coordinates."
      ],
      "metadata": {
        "id": "N09YgveY55Qc"
      }
    },
    {
      "cell_type": "code",
      "source": [
        "from time import time\n",
        "from mbtrack2.tracking import LongitudinalMap, RFCavity, SynchrotronRadiation, TransverseMap"
      ],
      "metadata": {
        "id": "1B4FWH3oKA3m"
      },
      "execution_count": 40,
      "outputs": []
    },
    {
      "cell_type": "markdown",
      "source": [
        "For example, the `LongitudinalMap` element applies the following transform:\n",
        "+ $\\tau = \\tau + \\eta T_0 \\delta $ \n",
        "+ $\\delta = \\delta - \\frac{U_0}{E_0}$\n",
        "\n",
        "Which corresponds to the transformation of the longitudinal coordinates ($\\tau$, $\\delta$) undergoes during a full turn in the synchrotron."
      ],
      "metadata": {
        "id": "voyxGQfF61pb"
      }
    },
    {
      "cell_type": "code",
      "source": [
        "LongMap = LongitudinalMap(ring) # define the LongitudinalMap element with the ring parameters\n",
        "mybunch = Bunch(ring, mp_number=1e3, current=1e-3)\n",
        "mybunch.init_gaussian()\n",
        "print(mybunch[\"tau\"][:4])\n",
        "print(mybunch[\"delta\"][:4])"
      ],
      "metadata": {
        "id": "hZJ-vdJmKWK6",
        "colab": {
          "base_uri": "https://localhost:8080/"
        },
        "outputId": "2241ded5-491f-4757-8a4b-05f7abb1e066"
      },
      "execution_count": 59,
      "outputs": [
        {
          "output_type": "stream",
          "name": "stdout",
          "text": [
            "[ 2.29606182e-11  1.82769352e-11  4.06131412e-12 -1.61086339e-12]\n",
            "[-0.00116866  0.0005928   0.00021837 -0.00028106]\n"
          ]
        }
      ]
    },
    {
      "cell_type": "markdown",
      "source": [
        "Tracking the `Bunch` object through the `LongitudinalMap` is done by calling its `track` method with the `Bunch` object as argument."
      ],
      "metadata": {
        "id": "usQ3ju5copUP"
      }
    },
    {
      "cell_type": "code",
      "source": [
        "LongMap.track(mybunch)\n",
        "print(mybunch[\"tau\"][:4])\n",
        "print(mybunch[\"delta\"][:4])"
      ],
      "metadata": {
        "colab": {
          "base_uri": "https://localhost:8080/"
        },
        "id": "RjbOCdSnoIzn",
        "outputId": "1c9e784c-d7ca-436f-8bce-09c3ad420e6d"
      },
      "execution_count": 61,
      "outputs": [
        {
          "output_type": "stream",
          "name": "stdout",
          "text": [
            "[ 2.02233057e-11  1.90625425e-11  4.09805108e-12 -2.57297347e-12]\n",
            "[-1.43532289e-03  3.26137005e-04 -4.82981879e-05 -5.47721707e-04]\n"
          ]
        }
      ]
    },
    {
      "cell_type": "markdown",
      "source": [
        "In a similar way, the `RFCavity` element applies:\n",
        "\n",
        "$\\delta = \\delta +  \\frac{V_c}{E_0} \\cos(m \\omega_1 \\tau + \\theta)$"
      ],
      "metadata": {
        "id": "xIN0ZXla6PsU"
      }
    },
    {
      "cell_type": "code",
      "source": [
        "RF = RFCavity(ring, m=1, Vc=1e6, theta=np.arccos(ring.U0/1e6))"
      ],
      "metadata": {
        "id": "-R_INXI-KaJW"
      },
      "execution_count": 62,
      "outputs": []
    },
    {
      "cell_type": "markdown",
      "source": [
        "The `SynchrotronRadiation` element applies:\n",
        "\n",
        "$z = \\delta, x', y'$\n",
        "\n",
        "\\begin{equation}\n",
        "    z = \\left (1 - \\frac{2 T_0}{\\tau_z} \\right) z + 2 \\sigma_{z} \\sqrt{\\frac{T_0}{\\tau_z}} \\times \\epsilon\n",
        "\\end{equation}\n",
        "\n",
        "Where $z$ is a generic coordinate which can be $\\delta$, $x'$ or $y'$."
      ],
      "metadata": {
        "id": "5_BDWbbiD4fI"
      }
    },
    {
      "cell_type": "code",
      "source": [
        "SR = SynchrotronRadiation(ring)"
      ],
      "metadata": {
        "id": "_IE_nYL8KrB3"
      },
      "execution_count": 63,
      "outputs": []
    },
    {
      "cell_type": "markdown",
      "source": [
        "The `TransverseMap` element applies:\n",
        "\n",
        "\\begin{equation}\n",
        "\\Delta \\mu = 2 \\pi (Q + \\xi \\delta)\n",
        "\\end{equation}\n",
        "\n",
        "\\begin{equation}\n",
        "    M = M_{s_0 \\rightarrow s_0} =\n",
        "    \\begin{bmatrix}\n",
        "        \\cos(\\Delta \\mu) + \\alpha_0 \\sin(\\Delta \\mu) & \\beta_0 \\sin(\\Delta \\mu) & D_0 \\\\\n",
        "        - \\gamma_0 \\sin(\\Delta \\mu) & \\cos(\\Delta \\mu) - \\alpha_0 \\sin(\\Delta \\mu) & D_0'\n",
        "    \\end{bmatrix}\n",
        "\\end{equation}\n",
        "\n",
        "\\begin{equation}\n",
        "    \\begin{bmatrix}\n",
        "        z\\\\\n",
        "        z'\n",
        "    \\end{bmatrix}\n",
        "    =\n",
        "    M\n",
        "    \\begin{bmatrix}\n",
        "        z\\\\\n",
        "        z'\n",
        "    \\end{bmatrix}\n",
        "\\end{equation}\n",
        "\n",
        "Where $z$ is a generic coordinate which can be $x$ or $y$."
      ],
      "metadata": {
        "id": "YYQ3QBMR_HUQ"
      }
    },
    {
      "cell_type": "code",
      "source": [
        "TransMap = TransverseMap(ring)"
      ],
      "metadata": {
        "id": "SZGpmbe2q4yf"
      },
      "execution_count": 64,
      "outputs": []
    },
    {
      "cell_type": "markdown",
      "source": [
        "Tracking for many turns in then done by writing a python script using a for loop"
      ],
      "metadata": {
        "id": "SlDlcXVHkzW4"
      }
    },
    {
      "cell_type": "code",
      "source": [
        "turns = 100\n",
        "t1 = time()\n",
        "for i in range(turns):\n",
        "  LongMap.track(mybunch)\n",
        "  SR.track(mybunch)\n",
        "  TransMap.track(mybunch)\n",
        "  RF.track(mybunch)\n",
        "t2 = time()\n",
        "print(t2-t1)"
      ],
      "metadata": {
        "colab": {
          "base_uri": "https://localhost:8080/"
        },
        "id": "1zJFHqgwkZKY",
        "outputId": "50d316d5-667a-4b6e-920c-99021cb85c6d"
      },
      "execution_count": 50,
      "outputs": [
        {
          "output_type": "stream",
          "name": "stdout",
          "text": [
            "0.10312485694885254\n"
          ]
        }
      ]
    },
    {
      "cell_type": "markdown",
      "source": [
        "Tracking methods can be used indiscriminately on `Bunch` or `Beam` objects "
      ],
      "metadata": {
        "id": "ICxTFwCJjmqp"
      }
    },
    {
      "cell_type": "code",
      "source": [
        "filling_pattern = np.ones(ring.h)*1e-3 # uniform beam with 1 mA per bunch\n",
        "mybeam = Beam(ring)\n",
        "mybeam.init_beam(filling_pattern, mp_per_bunch=1e3)"
      ],
      "metadata": {
        "id": "ZpkQ7e-2xT7y"
      },
      "execution_count": 48,
      "outputs": []
    },
    {
      "cell_type": "markdown",
      "source": [
        "Tracking with `Beam` object can be quite long as the code does an internal loop over all the `Bunch` objects:"
      ],
      "metadata": {
        "id": "AjdjBpk1iu3j"
      }
    },
    {
      "cell_type": "code",
      "source": [
        "turns = 100\n",
        "t1 = time()\n",
        "for i in range(turns):\n",
        "  LongMap.track(mybeam)\n",
        "  SR.track(mybeam)\n",
        "  TransMap.track(mybeam)\n",
        "  RF.track(mybeam)\n",
        "t2 = time()\n",
        "print(t2-t1)"
      ],
      "metadata": {
        "id": "OaJIa4oaIugh",
        "colab": {
          "base_uri": "https://localhost:8080/"
        },
        "outputId": "c0265a2b-8829-4921-985b-27d4d4c31cdb"
      },
      "execution_count": 47,
      "outputs": [
        {
          "output_type": "stream",
          "name": "stdout",
          "text": [
            "2.0058658123016357\n"
          ]
        }
      ]
    },
    {
      "cell_type": "markdown",
      "source": [
        "## Using MPI"
      ],
      "metadata": {
        "id": "YqJtFL_OIvSq"
      }
    },
    {
      "cell_type": "markdown",
      "source": [
        "MPI can be used to speed up the tracking when using a `Beam` object by distributing the different `Bunch` objects in different cores.\n",
        "\n",
        "To be able to use this feature, **the python code must be run with as many core as there is a `Bunch` objects in the `Beam`.**"
      ],
      "metadata": {
        "id": "KmnutEIbrZgf"
      }
    },
    {
      "cell_type": "code",
      "source": [
        "myscript= \"\"\"\n",
        "import numpy as np\n",
        "from time import time\n",
        "from mbtrack2 import *\n",
        "\n",
        "h = 20 # Harmonic number of the accelerator.\n",
        "L = 100 # Ring circumference in [m].\n",
        "E0 = 1.5e9 # Nominal (total) energy of the ring in [eV].\n",
        "particle = Electron() # Particle considered.\n",
        "ac = 1e-3 # Momentum compaction factor.\n",
        "U0 = 200e3 # Energy loss per turn in [eV].\n",
        "tau = np.array([1e-3, 1e-3, 2e-3]) # Horizontal, vertical and longitudinal damping times in [s].\n",
        "tune = np.array([12.2, 15.3]) # Horizontal and vertical tunes.\n",
        "emit = np.array([10e-9, 10e-12]) # Horizontal and vertical equilibrium emittance in [m.rad].\n",
        "sigma_0 = 15e-12 # Natural bunch length in [s].\n",
        "sigma_delta = 1e-3 # Equilibrium energy spread.\n",
        "chro = [2.0, 3.0] # Horizontal and vertical (non-normalized) chromaticities.\n",
        "\n",
        "local_beta = np.array([3, 2]) # Beta function at the tracking location.\n",
        "local_alpha = np.array([0, 0]) # Alpha function at the tracking location.\n",
        "local_dispersion = np.array([0, 0, 0, 0]) # Dispersion function and its derivative at the tracking location.\n",
        "optics = Optics(local_beta=local_beta, local_alpha=local_alpha, \n",
        "                  local_dispersion=local_dispersion)\n",
        "\n",
        "ring = Synchrotron(h=h, optics=optics, particle=particle, L=L, E0=E0, ac=ac, \n",
        "                   U0=U0, tau=tau, emit=emit, tune=tune, \n",
        "                   sigma_delta=sigma_delta, sigma_0=sigma_0, chro=chro)\n",
        "\n",
        "LongMap = LongitudinalMap(ring)\n",
        "RF = RFCavity(ring, m=1, Vc=1e6, theta=np.arccos(ring.U0/1e6))\n",
        "SR = SynchrotronRadiation(ring)\n",
        "TransMap = TransverseMap(ring)\n",
        "\n",
        "filling_pattern = np.ones(ring.h)*1e-3 # uniform beam with 1 mA per bunch\n",
        "mybeam = Beam(ring)\n",
        "mybeam.init_beam(filling_pattern, mp_per_bunch=1e3)\n",
        "\n",
        "turns = 100\n",
        "t1 = time()\n",
        "for i in range(turns):\n",
        "  LongMap.track(mybeam)\n",
        "  SR.track(mybeam)\n",
        "  TransMap.track(mybeam)\n",
        "  RF.track(mybeam)\n",
        "t2 = time()\n",
        "print(t2-t1)\n",
        "\"\"\"\n",
        "with open(\"test.py\", \"w\") as text_file:\n",
        "    text_file.write(myscript)\n"
      ],
      "metadata": {
        "id": "1DaTz2mStBph"
      },
      "execution_count": 73,
      "outputs": []
    },
    {
      "cell_type": "code",
      "source": [
        "! mpiexec -n 20 --allow-run-as-root python test.py"
      ],
      "metadata": {
        "id": "3QApOvydxpsC",
        "colab": {
          "base_uri": "https://localhost:8080/"
        },
        "outputId": "a436f508-10f3-4f7d-884d-affb08cc2ced"
      },
      "execution_count": 74,
      "outputs": [
        {
          "output_type": "stream",
          "name": "stdout",
          "text": [
            "35.01849699020386\n",
            "35.01029682159424\n",
            "35.03436589241028\n",
            "35.18090224266052\n",
            "35.11009073257446\n",
            "35.3165647983551\n",
            "35.178181409835815\n",
            "34.915786027908325\n",
            "35.01349925994873\n",
            "35.073734521865845\n",
            "35.38310527801514\n",
            "35.17991280555725\n",
            "35.19127798080444\n",
            "35.29172086715698\n",
            "35.26311278343201\n",
            "35.24605393409729\n",
            "35.295764207839966\n",
            "35.512418270111084\n",
            "35.26972532272339\n",
            "35.31436252593994\n"
          ]
        }
      ]
    },
    {
      "cell_type": "markdown",
      "source": [
        "# Monitors"
      ],
      "metadata": {
        "id": "a_B5YgHFHaIA"
      }
    },
    {
      "cell_type": "code",
      "source": [
        ""
      ],
      "metadata": {
        "id": "5fEfD7M0Hb_A"
      },
      "execution_count": null,
      "outputs": []
    }
  ]
}