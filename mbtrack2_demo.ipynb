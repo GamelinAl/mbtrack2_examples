{
  "nbformat": 4,
  "nbformat_minor": 0,
  "metadata": {
    "colab": {
      "provenance": [],
      "toc_visible": true,
      "authorship_tag": "ABX9TyMKbfP72rl8zlB2EELpADil",
      "include_colab_link": true
    },
    "kernelspec": {
      "name": "python3",
      "display_name": "Python 3"
    },
    "language_info": {
      "name": "python"
    }
  },
  "cells": [
    {
      "cell_type": "markdown",
      "metadata": {
        "id": "view-in-github",
        "colab_type": "text"
      },
      "source": [
        "<a href=\"https://colab.research.google.com/github/GamelinAl/mbtrack2_examples/blob/main/mbtrack2_demo.ipynb\" target=\"_parent\"><img src=\"https://colab.research.google.com/assets/colab-badge.svg\" alt=\"Open In Colab\"/></a>"
      ]
    },
    {
      "cell_type": "markdown",
      "source": [
        "# Wellcome to the mbtrack2 demo !\n",
        "\n",
        "The idea behind **mbtrack2** is to build a **coherent object-oriented framework** to work on **collective effects** in synchrotrons. mbtrack2 is composed of different modules allowing to easily write scripts for **single bunch** or **multi-bunch** tracking using MPI parallelization\n",
        "in a transparent way.\n",
        "\n",
        "The base of the tracking model of mbtrack2 is inspired by **mbtrack**, a C multi-bunch tracking code initially developed at SOLEIL. In addition, many tools to prepare or analyse tracking simulations are included.\n",
        "\n",
        "The aim of this notebook is to demonstrate the main features of **mbtrack2** related to **tracking**."
      ],
      "metadata": {
        "id": "IKih_9pcq9Ui"
      }
    },
    {
      "cell_type": "markdown",
      "source": [
        "## Conventions\n",
        "\n",
        "### Tracking\n",
        "In **mbtrack2**, a particle is described as a point $(x,x',y,y',\\tau,\\delta)$ in the 6-dimensional phase-space:\n",
        "+ $x$ and $y$ are the horizontal and vertical position.\n",
        "+ $x'=\\frac{dx}{ds}$ and $y'=\\frac{dy}{ds}$ are the horizontal and vertical transverse momenta.\n",
        "+ $\\tau$ is the time difference with respect to the reference particle.\n",
        "+ $\\delta = \\frac{E - E_0}{E_0}$ is the relative energy deviation from the reference energy $E_0$.\n",
        "\n",
        "A particle is late compared to the reference particle if $\\tau > 0$.\n",
        "\n",
        "### Units\n",
        "mbtrack2 uses SI units.\n",
        "\n",
        "### RF\n",
        "mbtrack2 uses the cosine convention for RF voltage.\n",
        "\n",
        "### Array structure\n",
        "The arrays are strcutured as [horizontal_value, vertical_value, longitudinal_value]."
      ],
      "metadata": {
        "id": "zutgeXaaBjWg"
      }
    },
    {
      "cell_type": "markdown",
      "source": [
        "# Installation"
      ],
      "metadata": {
        "id": "O5fColz-q2EI"
      }
    },
    {
      "cell_type": "code",
      "execution_count": 1,
      "metadata": {
        "colab": {
          "base_uri": "https://localhost:8080/"
        },
        "id": "BKGTZA_EvtF6",
        "outputId": "0b465357-2bc1-42f5-d49d-122c71b7c3db"
      },
      "outputs": [
        {
          "output_type": "stream",
          "name": "stdout",
          "text": [
            "Collecting mbtrack2\n",
            "  Downloading mbtrack2-0.5.0-py3-none-any.whl (110 kB)\n",
            "\u001b[2K     \u001b[90m━━━━━━━━━━━━━━━━━━━━━━━━━━━━━━━━━━━━━━━━\u001b[0m \u001b[32m110.2/110.2 kB\u001b[0m \u001b[31m2.5 MB/s\u001b[0m eta \u001b[36m0:00:00\u001b[0m\n",
            "\u001b[?25hCollecting accelerator-toolbox>=0.3.0 (from mbtrack2)\n",
            "  Downloading accelerator_toolbox-0.4.0-cp310-cp310-manylinux_2_17_x86_64.manylinux2014_x86_64.whl (2.6 MB)\n",
            "\u001b[2K     \u001b[90m━━━━━━━━━━━━━━━━━━━━━━━━━━━━━━━━━━━━━━━━\u001b[0m \u001b[32m2.6/2.6 MB\u001b[0m \u001b[31m34.2 MB/s\u001b[0m eta \u001b[36m0:00:00\u001b[0m\n",
            "\u001b[?25hRequirement already satisfied: h5py<4.0,>=3.6 in /usr/local/lib/python3.10/dist-packages (from mbtrack2) (3.9.0)\n",
            "Requirement already satisfied: matplotlib<4.0,>=3.5 in /usr/local/lib/python3.10/dist-packages (from mbtrack2) (3.7.1)\n",
            "Collecting mpi4py<4.0,>=3.1 (from mbtrack2)\n",
            "  Downloading mpi4py-3.1.5.tar.gz (2.5 MB)\n",
            "\u001b[2K     \u001b[90m━━━━━━━━━━━━━━━━━━━━━━━━━━━━━━━━━━━━━━━━\u001b[0m \u001b[32m2.5/2.5 MB\u001b[0m \u001b[31m85.6 MB/s\u001b[0m eta \u001b[36m0:00:00\u001b[0m\n",
            "\u001b[?25h  Installing build dependencies ... \u001b[?25l\u001b[?25hdone\n",
            "  Getting requirements to build wheel ... \u001b[?25l\u001b[?25hdone\n",
            "  Preparing metadata (pyproject.toml) ... \u001b[?25l\u001b[?25hdone\n",
            "Requirement already satisfied: mpmath<2.0.0,>=1.2.1 in /usr/local/lib/python3.10/dist-packages (from mbtrack2) (1.3.0)\n",
            "Requirement already satisfied: numpy<2.0,>=1.21 in /usr/local/lib/python3.10/dist-packages (from mbtrack2) (1.23.5)\n",
            "Requirement already satisfied: pandas>=1.5.3 in /usr/local/lib/python3.10/dist-packages (from mbtrack2) (1.5.3)\n",
            "Requirement already satisfied: scipy<2.0,>=1.7 in /usr/local/lib/python3.10/dist-packages (from mbtrack2) (1.11.3)\n",
            "Requirement already satisfied: seaborn<0.13,>=0.12 in /usr/local/lib/python3.10/dist-packages (from mbtrack2) (0.12.2)\n",
            "Requirement already satisfied: contourpy>=1.0.1 in /usr/local/lib/python3.10/dist-packages (from matplotlib<4.0,>=3.5->mbtrack2) (1.1.1)\n",
            "Requirement already satisfied: cycler>=0.10 in /usr/local/lib/python3.10/dist-packages (from matplotlib<4.0,>=3.5->mbtrack2) (0.12.1)\n",
            "Requirement already satisfied: fonttools>=4.22.0 in /usr/local/lib/python3.10/dist-packages (from matplotlib<4.0,>=3.5->mbtrack2) (4.43.1)\n",
            "Requirement already satisfied: kiwisolver>=1.0.1 in /usr/local/lib/python3.10/dist-packages (from matplotlib<4.0,>=3.5->mbtrack2) (1.4.5)\n",
            "Requirement already satisfied: packaging>=20.0 in /usr/local/lib/python3.10/dist-packages (from matplotlib<4.0,>=3.5->mbtrack2) (23.2)\n",
            "Requirement already satisfied: pillow>=6.2.0 in /usr/local/lib/python3.10/dist-packages (from matplotlib<4.0,>=3.5->mbtrack2) (9.4.0)\n",
            "Requirement already satisfied: pyparsing>=2.3.1 in /usr/local/lib/python3.10/dist-packages (from matplotlib<4.0,>=3.5->mbtrack2) (3.1.1)\n",
            "Requirement already satisfied: python-dateutil>=2.7 in /usr/local/lib/python3.10/dist-packages (from matplotlib<4.0,>=3.5->mbtrack2) (2.8.2)\n",
            "Requirement already satisfied: pytz>=2020.1 in /usr/local/lib/python3.10/dist-packages (from pandas>=1.5.3->mbtrack2) (2023.3.post1)\n",
            "Requirement already satisfied: six>=1.5 in /usr/local/lib/python3.10/dist-packages (from python-dateutil>=2.7->matplotlib<4.0,>=3.5->mbtrack2) (1.16.0)\n",
            "Building wheels for collected packages: mpi4py\n",
            "  Building wheel for mpi4py (pyproject.toml) ... \u001b[?25l\u001b[?25hdone\n",
            "  Created wheel for mpi4py: filename=mpi4py-3.1.5-cp310-cp310-linux_x86_64.whl size=2746527 sha256=2572f4a457e83e569570ff963d0adb8ce1c94345264f495c5793e6a071f1bb77\n",
            "  Stored in directory: /root/.cache/pip/wheels/18/2b/7f/c852523089e9182b45fca50ff56f49a51eeb6284fd25a66713\n",
            "Successfully built mpi4py\n",
            "Installing collected packages: mpi4py, accelerator-toolbox, mbtrack2\n",
            "Successfully installed accelerator-toolbox-0.4.0 mbtrack2-0.5.0 mpi4py-3.1.5\n"
          ]
        }
      ],
      "source": [
        "pip install mbtrack2"
      ]
    },
    {
      "cell_type": "markdown",
      "source": [
        "# Synchrotron object"
      ],
      "metadata": {
        "id": "-CHO7pYlsa76"
      }
    },
    {
      "cell_type": "code",
      "source": [
        "import numpy as np\n",
        "from mbtrack2.tracking import Synchrotron, Electron\n",
        "from mbtrack2.utilities import Optics"
      ],
      "metadata": {
        "id": "ewMLyHDOslSD"
      },
      "execution_count": null,
      "outputs": []
    },
    {
      "cell_type": "markdown",
      "source": [
        "To known how to use and define mbtrack2 classes, use the help:\n",
        "\n",
        "\n",
        "```\n",
        "help(Synchrotron)\n",
        "```\n",
        "\n"
      ],
      "metadata": {
        "id": "WsbeELvuyder"
      }
    },
    {
      "cell_type": "markdown",
      "source": [
        "Let us define some paramter for our synchrotron:"
      ],
      "metadata": {
        "id": "07gwix3w1Fat"
      }
    },
    {
      "cell_type": "code",
      "source": [
        "h = 20 # Harmonic number of the accelerator.\n",
        "L = 100 # Ring circumference in [m].\n",
        "E0 = 1.5e9 # Nominal (total) energy of the ring in [eV].\n",
        "particle = Electron() # Particle considered.\n",
        "ac = 1e-3 # Momentum compaction factor.\n",
        "U0 = 200e3 # Energy loss per turn in [eV].\n",
        "tau = np.array([1e-3, 1e-3, 2e-3]) # Horizontal, vertical and longitudinal damping times in [s].\n",
        "tune = np.array([12.2, 15.3]) # Horizontal and vertical tunes.\n",
        "emit = np.array([10e-9, 10e-12]) # Horizontal and vertical equilibrium emittance in [m.rad].\n",
        "sigma_0 = 15e-12 # Natural bunch length in [s].\n",
        "sigma_delta = 1e-3 # Equilibrium energy spread.\n",
        "chro = [2.0, 3.0] # Horizontal and vertical (non-normalized) chromaticities."
      ],
      "metadata": {
        "id": "GH7V8wmmxH4i"
      },
      "execution_count": null,
      "outputs": []
    },
    {
      "cell_type": "markdown",
      "source": [
        "The `Optics` class stores optic functions related values.\n",
        "\n",
        "Here we define the values of the optic functions at the tracking location:"
      ],
      "metadata": {
        "id": "edkvIwjs1vdK"
      }
    },
    {
      "cell_type": "code",
      "source": [
        "local_beta = np.array([3, 2]) # Beta function at the tracking location.\n",
        "local_alpha = np.array([0, 0]) # Alpha function at the tracking location.\n",
        "local_dispersion = np.array([0, 0, 0, 0]) # Dispersion function and its derivative at the tracking location.\n",
        "optics = Optics(local_beta=local_beta, local_alpha=local_alpha,\n",
        "                  local_dispersion=local_dispersion)"
      ],
      "metadata": {
        "id": "yY9Fh3JR1rQy"
      },
      "execution_count": null,
      "outputs": []
    },
    {
      "cell_type": "markdown",
      "source": [
        "The `Synchrotron` class stores most global lattice parameters:"
      ],
      "metadata": {
        "id": "D41nqm3b2aqH"
      }
    },
    {
      "cell_type": "code",
      "source": [
        "ring = Synchrotron(h=h, optics=optics, particle=particle, L=L, E0=E0, ac=ac,\n",
        "                   U0=U0, tau=tau, emit=emit, tune=tune,\n",
        "                   sigma_delta=sigma_delta, sigma_0=sigma_0, chro=chro)"
      ],
      "metadata": {
        "id": "WiPq6SDLvbjC"
      },
      "execution_count": null,
      "outputs": []
    },
    {
      "cell_type": "markdown",
      "source": [
        "Now the `Synchrotron` object can be used:"
      ],
      "metadata": {
        "id": "sP2NaRwt3yRM"
      }
    },
    {
      "cell_type": "code",
      "source": [
        "ring.T0 # Revolution time in [s]."
      ],
      "metadata": {
        "colab": {
          "base_uri": "https://localhost:8080/"
        },
        "id": "fr96wM893xLc",
        "outputId": "6011148f-8bca-47f8-b4fd-82d322882993"
      },
      "execution_count": null,
      "outputs": [
        {
          "output_type": "execute_result",
          "data": {
            "text/plain": [
              "3.3356409519815204e-07"
            ]
          },
          "metadata": {},
          "execution_count": 8
        }
      ]
    },
    {
      "cell_type": "code",
      "source": [
        "ring.f1 # Fundamental RF frequency in [Hz]."
      ],
      "metadata": {
        "colab": {
          "base_uri": "https://localhost:8080/"
        },
        "id": "EDTia9Ol5IGk",
        "outputId": "2e4decbe-655c-412d-fbad-ff322de6f0b8"
      },
      "execution_count": null,
      "outputs": [
        {
          "output_type": "execute_result",
          "data": {
            "text/plain": [
              "59958491.6"
            ]
          },
          "metadata": {},
          "execution_count": 9
        }
      ]
    },
    {
      "cell_type": "code",
      "source": [
        "ring.gamma # Relativistic Lorentz gamma."
      ],
      "metadata": {
        "colab": {
          "base_uri": "https://localhost:8080/"
        },
        "id": "EBsio2fw5PCU",
        "outputId": "377a7f5e-6451-4469-edc8-6e8f78e1f674"
      },
      "execution_count": null,
      "outputs": [
        {
          "output_type": "execute_result",
          "data": {
            "text/plain": [
              "2935.42677536081"
            ]
          },
          "metadata": {},
          "execution_count": 10
        }
      ]
    },
    {
      "cell_type": "markdown",
      "source": [
        "Most class attributes in mbtrack are dynamically linked when possible:"
      ],
      "metadata": {
        "id": "Jemrr4Ey5nZu"
      }
    },
    {
      "cell_type": "code",
      "source": [
        "ring.T0 = 1e-6 # Revolution time in [s].\n",
        "ring.L # Ring circumference in [m]."
      ],
      "metadata": {
        "colab": {
          "base_uri": "https://localhost:8080/"
        },
        "id": "lf5h3gTj5xGk",
        "outputId": "de3f4d6d-6fc4-40af-9eb9-9d48ec8f39ae"
      },
      "execution_count": null,
      "outputs": [
        {
          "output_type": "execute_result",
          "data": {
            "text/plain": [
              "299.792458"
            ]
          },
          "metadata": {},
          "execution_count": 11
        }
      ]
    },
    {
      "cell_type": "markdown",
      "source": [
        "An Accelerator Toolbox (AT) format lattice can also be loaded using:\n",
        "\n",
        "\n",
        "```\n",
        "optics = Optics(lattice_file=lattice_file)\n",
        "ring = Synchrotron(h, optics, particle)\n",
        "```\n",
        "In that case, the AT lattice paramters are used to fill the `Synchrotron` object.\n"
      ],
      "metadata": {
        "id": "_-sj3Jlu37Rc"
      }
    },
    {
      "cell_type": "markdown",
      "source": [
        "Main conventions used:\n",
        "+ mbtrack2 uses SI units.\n",
        "+ the arrays are strcutured as `[horizontal_value, vertical_value, longitudinal_value]`."
      ],
      "metadata": {
        "id": "ZriCgRYIzkvr"
      }
    },
    {
      "cell_type": "markdown",
      "source": [
        "# Bunch and Beam objects"
      ],
      "metadata": {
        "id": "OW9YgunevfKb"
      }
    },
    {
      "cell_type": "code",
      "source": [
        "from mbtrack2.tracking import Bunch, Beam"
      ],
      "metadata": {
        "id": "ne2yGLJ06s6O"
      },
      "execution_count": null,
      "outputs": []
    },
    {
      "cell_type": "markdown",
      "source": [
        "## Bunch"
      ],
      "metadata": {
        "id": "TCu24f639KrW"
      }
    },
    {
      "cell_type": "markdown",
      "source": [
        "Defines a `Bunch` object with 5 macro-particles and a current of 1 mA:"
      ],
      "metadata": {
        "id": "k9_SrmgK-gSN"
      }
    },
    {
      "cell_type": "code",
      "source": [
        "mybunch = Bunch(ring, mp_number=5, current=1e-3)\n",
        "mybunch"
      ],
      "metadata": {
        "colab": {
          "base_uri": "https://localhost:8080/"
        },
        "id": "FSu6AiVB62bd",
        "outputId": "64bfd38e-11fb-4273-dd46-0636b6f937a6"
      },
      "execution_count": null,
      "outputs": [
        {
          "output_type": "execute_result",
          "data": {
            "text/plain": [
              "Bunch with macro-particles: \n",
              "      x   xp    y   yp  tau  delta\n",
              "0  0.0  0.0  0.0  0.0  0.0    0.0\n",
              "1  0.0  0.0  0.0  0.0  0.0    0.0\n",
              "2  0.0  0.0  0.0  0.0  0.0    0.0\n",
              "3  0.0  0.0  0.0  0.0  0.0    0.0\n",
              "4  0.0  0.0  0.0  0.0  0.0    0.0"
            ]
          },
          "metadata": {},
          "execution_count": 13
        }
      ]
    },
    {
      "cell_type": "markdown",
      "source": [
        "The coordinates for a single dimension can be accessed by brackets:"
      ],
      "metadata": {
        "id": "-ZLDs32W-rxN"
      }
    },
    {
      "cell_type": "code",
      "source": [
        "mybunch[\"x\"]"
      ],
      "metadata": {
        "colab": {
          "base_uri": "https://localhost:8080/"
        },
        "id": "fYYWiGaH8PGt",
        "outputId": "d1bba404-057b-4830-81c9-8ddab9a27e56"
      },
      "execution_count": null,
      "outputs": [
        {
          "output_type": "execute_result",
          "data": {
            "text/plain": [
              "array([0., 0., 0., 0., 0.])"
            ]
          },
          "metadata": {},
          "execution_count": 14
        }
      ]
    },
    {
      "cell_type": "code",
      "source": [
        "mybunch[\"x\"] += 1e-3 # add 1 mm offset in horizontal dimension\n",
        "mybunch"
      ],
      "metadata": {
        "colab": {
          "base_uri": "https://localhost:8080/"
        },
        "id": "qHfFJlD38SVE",
        "outputId": "168a4097-982a-42c2-b325-ffd33d0850d7"
      },
      "execution_count": null,
      "outputs": [
        {
          "output_type": "execute_result",
          "data": {
            "text/plain": [
              "Bunch with macro-particles: \n",
              "        x   xp    y   yp  tau  delta\n",
              "0  0.001  0.0  0.0  0.0  0.0    0.0\n",
              "1  0.001  0.0  0.0  0.0  0.0    0.0\n",
              "2  0.001  0.0  0.0  0.0  0.0    0.0\n",
              "3  0.001  0.0  0.0  0.0  0.0    0.0\n",
              "4  0.001  0.0  0.0  0.0  0.0    0.0"
            ]
          },
          "metadata": {},
          "execution_count": 15
        }
      ]
    },
    {
      "cell_type": "markdown",
      "source": [
        "Initialize the bunch macro-particles to have gaussian distribution corresponding to the `Synchrotron` object equilibrium parameters:"
      ],
      "metadata": {
        "id": "vtAPNcAX_CX9"
      }
    },
    {
      "cell_type": "code",
      "source": [
        "mybunch.init_gaussian()\n",
        "mybunch"
      ],
      "metadata": {
        "colab": {
          "base_uri": "https://localhost:8080/"
        },
        "id": "bfquwwF28GZN",
        "outputId": "ca5d147c-4891-466e-fbaa-b6f83d78f8d6"
      },
      "execution_count": null,
      "outputs": [
        {
          "output_type": "execute_result",
          "data": {
            "text/plain": [
              "Bunch with macro-particles: \n",
              "           x        xp             y            yp           tau     delta\n",
              "0  0.000332 -0.000024  2.332602e-06  1.935804e-06  1.290600e-11  0.000114\n",
              "1  0.000046 -0.000059  3.202395e-08 -4.121350e-06  1.619416e-11  0.001138\n",
              "2 -0.000130  0.000021 -6.734087e-06  2.075223e-06  2.045646e-12 -0.000917\n",
              "3  0.000067 -0.000024 -1.023824e-05  3.729550e-07  1.014738e-11 -0.001131\n",
              "4  0.000108  0.000041 -5.459783e-06  6.722744e-07 -3.534524e-11  0.000226"
            ]
          },
          "metadata": {},
          "execution_count": 16
        }
      ]
    },
    {
      "cell_type": "markdown",
      "source": [
        "Compute statistical quantities for each dimensions:"
      ],
      "metadata": {
        "id": "rQg66J_a-Kmf"
      }
    },
    {
      "cell_type": "code",
      "source": [
        "mybunch.mean # Mean position of alive particles for each coordinates."
      ],
      "metadata": {
        "colab": {
          "base_uri": "https://localhost:8080/"
        },
        "id": "goQf8y_Z9msV",
        "outputId": "9c4d6109-51cc-4e33-97ac-2af88b931273"
      },
      "execution_count": null,
      "outputs": [
        {
          "output_type": "execute_result",
          "data": {
            "text/plain": [
              "array([ 8.44807985e-05, -9.00446084e-06, -4.01349649e-06,  1.86981259e-07,\n",
              "        1.18959068e-12, -1.14118175e-04])"
            ]
          },
          "metadata": {},
          "execution_count": 17
        }
      ]
    },
    {
      "cell_type": "code",
      "source": [
        "mybunch.std # Standard deviation of the position of alive particles for each coordinates."
      ],
      "metadata": {
        "colab": {
          "base_uri": "https://localhost:8080/"
        },
        "outputId": "3d39e16c-5df3-42c3-9dc3-bc9462169911",
        "id": "WGSbxuqz9yd-"
      },
      "execution_count": null,
      "outputs": [
        {
          "output_type": "execute_result",
          "data": {
            "text/plain": [
              "array([1.48151256e-04, 3.58845280e-05, 4.57995576e-06, 2.25635309e-06,\n",
              "       1.88583132e-11, 8.26224101e-04])"
            ]
          },
          "metadata": {},
          "execution_count": 18
        }
      ]
    },
    {
      "cell_type": "code",
      "source": [
        "mybunch.emit # Bunch emittance for each plane."
      ],
      "metadata": {
        "colab": {
          "base_uri": "https://localhost:8080/"
        },
        "outputId": "11005930-bafd-47f6-ccf4-8d1e3ea53304",
        "id": "wVxnRwNa92dP"
      },
      "execution_count": null,
      "outputs": [
        {
          "output_type": "execute_result",
          "data": {
            "text/plain": [
              "array([5.93578702e-09, 1.33576757e-11, 1.57577630e-14])"
            ]
          },
          "metadata": {},
          "execution_count": 19
        }
      ]
    },
    {
      "cell_type": "markdown",
      "source": [
        "Change the bunch current:"
      ],
      "metadata": {
        "id": "wxGJdCug_toP"
      }
    },
    {
      "cell_type": "code",
      "source": [
        "mybunch.current # bunch current in [A]"
      ],
      "metadata": {
        "colab": {
          "base_uri": "https://localhost:8080/"
        },
        "id": "zvogt_6F8qf9",
        "outputId": "e75e1a78-65e5-4ba8-e7a8-302b1cc1bdae"
      },
      "execution_count": null,
      "outputs": [
        {
          "output_type": "execute_result",
          "data": {
            "text/plain": [
              "0.001"
            ]
          },
          "metadata": {},
          "execution_count": 20
        }
      ]
    },
    {
      "cell_type": "code",
      "source": [
        "mybunch.charge = 5e-9 # charge in [C]\n",
        "mybunch.current"
      ],
      "metadata": {
        "colab": {
          "base_uri": "https://localhost:8080/"
        },
        "id": "YjJnW_bS83M-",
        "outputId": "eeabd141-a839-41cf-aa98-885d6871bb7a"
      },
      "execution_count": null,
      "outputs": [
        {
          "output_type": "execute_result",
          "data": {
            "text/plain": [
              "0.005"
            ]
          },
          "metadata": {},
          "execution_count": 21
        }
      ]
    },
    {
      "cell_type": "markdown",
      "source": [
        "This boolean array shows which macro-particles are still \"alive\" and thoses which are lost:"
      ],
      "metadata": {
        "id": "iwvnYOC3Goiz"
      }
    },
    {
      "cell_type": "code",
      "source": [
        "mybunch.alive"
      ],
      "metadata": {
        "colab": {
          "base_uri": "https://localhost:8080/"
        },
        "id": "ecLdAvVGGowh",
        "outputId": "3e3b9a0a-4c52-4bb9-d450-4afa60db9b2d"
      },
      "execution_count": null,
      "outputs": [
        {
          "output_type": "execute_result",
          "data": {
            "text/plain": [
              "array([ True,  True,  True,  True,  True])"
            ]
          },
          "metadata": {},
          "execution_count": 22
        }
      ]
    },
    {
      "cell_type": "code",
      "source": [
        "mybunch.alive[2] = False\n",
        "mybunch.alive"
      ],
      "metadata": {
        "colab": {
          "base_uri": "https://localhost:8080/"
        },
        "id": "5LD2UhGzGwXh",
        "outputId": "716cdc6a-271f-4881-8d76-442926105468"
      },
      "execution_count": null,
      "outputs": [
        {
          "output_type": "execute_result",
          "data": {
            "text/plain": [
              "array([ True,  True, False,  True,  True])"
            ]
          },
          "metadata": {},
          "execution_count": 23
        }
      ]
    },
    {
      "cell_type": "markdown",
      "source": [
        "Lost marco-particles are no longer taken in account for the tracking or to compute bunch parameters:"
      ],
      "metadata": {
        "id": "9rHqIEbiH0W6"
      }
    },
    {
      "cell_type": "code",
      "source": [
        "mybunch.current"
      ],
      "metadata": {
        "colab": {
          "base_uri": "https://localhost:8080/"
        },
        "id": "ZM0TIBMQHCIh",
        "outputId": "8c07559a-aa6c-401f-dbe9-ee77790039ac"
      },
      "execution_count": null,
      "outputs": [
        {
          "output_type": "execute_result",
          "data": {
            "text/plain": [
              "0.004"
            ]
          },
          "metadata": {},
          "execution_count": 24
        }
      ]
    },
    {
      "cell_type": "code",
      "source": [
        "mybunch"
      ],
      "metadata": {
        "colab": {
          "base_uri": "https://localhost:8080/"
        },
        "id": "VvJr03_fG2-R",
        "outputId": "0fe2af33-60b6-487c-acee-358d7b896eb5"
      },
      "execution_count": null,
      "outputs": [
        {
          "output_type": "execute_result",
          "data": {
            "text/plain": [
              "Bunch with macro-particles: \n",
              "           x        xp             y            yp           tau     delta\n",
              "0  0.000332 -0.000024  2.332602e-06  1.935804e-06  1.290600e-11  0.000114\n",
              "1  0.000046 -0.000059  3.202395e-08 -4.121350e-06  1.619416e-11  0.001138\n",
              "2  0.000067 -0.000024 -1.023824e-05  3.729550e-07  1.014738e-11 -0.001131\n",
              "3  0.000108  0.000041 -5.459783e-06  6.722744e-07 -3.534524e-11  0.000226"
            ]
          },
          "metadata": {},
          "execution_count": 25
        }
      ]
    },
    {
      "cell_type": "markdown",
      "source": [
        "## Beam"
      ],
      "metadata": {
        "id": "P63zTaJy9ODW"
      }
    },
    {
      "cell_type": "markdown",
      "source": [
        "The `Beam` class is defined like an array container for `Bunch` objects:"
      ],
      "metadata": {
        "id": "uhXjn-9OFprq"
      }
    },
    {
      "cell_type": "code",
      "source": [
        "mybeam = Beam(ring) # define an empty beam\n",
        "mybeam[0] # no bunch in the 1st RF bucket as the beam is empty"
      ],
      "metadata": {
        "colab": {
          "base_uri": "https://localhost:8080/"
        },
        "id": "-BvT1LHlLG0x",
        "outputId": "ad682054-adb3-48c3-96ae-5bbe987b1fd6"
      },
      "execution_count": null,
      "outputs": [
        {
          "output_type": "execute_result",
          "data": {
            "text/plain": [
              "Bunch with macro-particles: \n",
              " Empty DataFrame\n",
              "Columns: [x, xp, y, yp, tau, delta]\n",
              "Index: []"
            ]
          },
          "metadata": {},
          "execution_count": 26
        }
      ]
    },
    {
      "cell_type": "markdown",
      "source": [
        "Define a filling pattern for our beam:"
      ],
      "metadata": {
        "id": "ksWbaINQMW_B"
      }
    },
    {
      "cell_type": "code",
      "source": [
        "filling_pattern = np.zeros(ring.h) # empty array of size ring.h\n",
        "filling_pattern[0:10] = 10e-3 # the first 10 bunches will be filled with 10 mA\n",
        "filling_pattern[10:15] = 5e-3\n",
        "filling_pattern[15:20] = 20e-3"
      ],
      "metadata": {
        "id": "Gu6w6ARULRGw"
      },
      "execution_count": null,
      "outputs": []
    },
    {
      "cell_type": "markdown",
      "source": [
        "Initialize our `Beam` object with a given filling pattern and 1000 macro-particles per bunch:"
      ],
      "metadata": {
        "id": "Q00sKqy0LYLC"
      }
    },
    {
      "cell_type": "code",
      "source": [
        "mybeam.init_beam(filling_pattern, mp_per_bunch=1e3)"
      ],
      "metadata": {
        "id": "4y4gLQpPxKdi"
      },
      "execution_count": null,
      "outputs": []
    },
    {
      "cell_type": "markdown",
      "source": [
        "It is possible to access the bunch located in the $n^{th}$ RF bucket using brackets:  "
      ],
      "metadata": {
        "id": "QfGks1tzNAYK"
      }
    },
    {
      "cell_type": "code",
      "source": [
        "mybeam[5]"
      ],
      "metadata": {
        "colab": {
          "base_uri": "https://localhost:8080/"
        },
        "id": "OrlG-LEJM5ci",
        "outputId": "eb9e7eff-20ff-4b1d-c1e3-ad17b4594640"
      },
      "execution_count": null,
      "outputs": [
        {
          "output_type": "execute_result",
          "data": {
            "text/plain": [
              "Bunch with macro-particles: \n",
              "             x        xp             y            yp           tau     delta\n",
              "0   -0.000154  0.000006  7.857900e-07  2.560549e-06  1.020541e-11 -0.001622\n",
              "1   -0.000107 -0.000058  2.580865e-06 -2.204238e-06  1.093186e-11  0.000081\n",
              "2    0.000023  0.000040  3.685923e-06 -6.861438e-07 -1.359971e-11  0.001318\n",
              "3    0.000057  0.000016 -8.435663e-06 -8.458525e-07  1.345465e-11 -0.002202\n",
              "4    0.000174 -0.000067 -1.041895e-06  1.481190e-06  1.728492e-11 -0.000356\n",
              "..        ...       ...           ...           ...           ...       ...\n",
              "995  0.000051 -0.000022 -6.176658e-06  6.688351e-07 -8.486925e-12 -0.000285\n",
              "996  0.000308 -0.000083 -2.146286e-06 -3.388490e-06  9.563398e-12  0.000160\n",
              "997 -0.000135 -0.000054  4.912553e-06 -1.226124e-07 -5.264923e-12 -0.000538\n",
              "998  0.000294 -0.000033 -3.129697e-06 -3.031694e-06  1.293202e-12 -0.000482\n",
              "999 -0.000196 -0.000063  3.268989e-07 -4.763475e-06 -2.073023e-11  0.001943\n",
              "\n",
              "[1000 rows x 6 columns]"
            ]
          },
          "metadata": {},
          "execution_count": 29
        }
      ]
    },
    {
      "cell_type": "markdown",
      "source": [
        "Beam and bunch parameters can be accessed:"
      ],
      "metadata": {
        "id": "20bTKa2cNqAy"
      }
    },
    {
      "cell_type": "code",
      "source": [
        "mybeam.current # Total beam current in [A]"
      ],
      "metadata": {
        "colab": {
          "base_uri": "https://localhost:8080/"
        },
        "id": "J8FQ-O9UN5KB",
        "outputId": "e659f638-5e5e-4384-fcea-2be181e0930e"
      },
      "execution_count": null,
      "outputs": [
        {
          "output_type": "execute_result",
          "data": {
            "text/plain": [
              "0.22499999999999998"
            ]
          },
          "metadata": {},
          "execution_count": 30
        }
      ]
    },
    {
      "cell_type": "code",
      "source": [
        "mybeam.bunch_current # Current in each bunch in [A]"
      ],
      "metadata": {
        "colab": {
          "base_uri": "https://localhost:8080/"
        },
        "id": "rHVy7Yc4N5OR",
        "outputId": "b5f64bad-12e9-44c7-847f-7e3853d2d325"
      },
      "execution_count": null,
      "outputs": [
        {
          "output_type": "execute_result",
          "data": {
            "text/plain": [
              "array([0.01 , 0.01 , 0.01 , 0.01 , 0.01 , 0.01 , 0.01 , 0.01 , 0.01 ,\n",
              "       0.01 , 0.005, 0.005, 0.005, 0.005, 0.005, 0.02 , 0.02 , 0.02 ,\n",
              "       0.02 , 0.02 ])"
            ]
          },
          "metadata": {},
          "execution_count": 31
        }
      ]
    },
    {
      "cell_type": "code",
      "source": [
        "fig = mybeam.plot(\"bunch_current\")"
      ],
      "metadata": {
        "colab": {
          "base_uri": "https://localhost:8080/",
          "height": 449
        },
        "id": "ojlDHKd0L3QB",
        "outputId": "569dcdcc-d1a3-4717-e968-1b7bdf20b4ea"
      },
      "execution_count": null,
      "outputs": [
        {
          "output_type": "display_data",
          "data": {
            "text/plain": [
              "<Figure size 640x480 with 1 Axes>"
            ],
            "image/png": "[encoded data removed]"
          },
          "metadata": {}
        }
      ]
    },
    {
      "cell_type": "code",
      "source": [
        "fig = mybeam.plot(\"bunch_emit\",\"x\")"
      ],
      "metadata": {
        "colab": {
          "base_uri": "https://localhost:8080/",
          "height": 449
        },
        "id": "giCTESPhZHLg",
        "outputId": "c45898de-ba50-4894-ce2a-3071de3abf48"
      },
      "execution_count": null,
      "outputs": [
        {
          "output_type": "display_data",
          "data": {
            "text/plain": [
              "<Figure size 640x480 with 1 Axes>"
            ],
            "image/png": "[encoded data removed]"
          },
          "metadata": {}
        }
      ]
    },
    {
      "cell_type": "markdown",
      "source": [
        "# Tracking"
      ],
      "metadata": {
        "id": "bT_CpT4F_0tv"
      }
    },
    {
      "cell_type": "markdown",
      "source": [
        "In mbtrack2, tracking is done by calling the `track` method from different objects. This `track` method applies a transformation to the macro-particles coordinates."
      ],
      "metadata": {
        "id": "N09YgveY55Qc"
      }
    },
    {
      "cell_type": "code",
      "source": [
        "from time import time\n",
        "from mbtrack2.tracking import LongitudinalMap, RFCavity, SynchrotronRadiation, TransverseMap"
      ],
      "metadata": {
        "id": "1B4FWH3oKA3m"
      },
      "execution_count": null,
      "outputs": []
    },
    {
      "cell_type": "markdown",
      "source": [
        "For example, the `LongitudinalMap` element applies the following transform:\n",
        "+ $\\tau = \\tau + \\eta T_0 \\delta $\n",
        "+ $\\delta = \\delta - \\frac{U_0}{E_0}$\n",
        "\n",
        "Which corresponds to the transformation of the longitudinal coordinates ($\\tau$, $\\delta$) undergoes during a full turn in the synchrotron."
      ],
      "metadata": {
        "id": "voyxGQfF61pb"
      }
    },
    {
      "cell_type": "code",
      "source": [
        "LongMap = LongitudinalMap(ring) # define the LongitudinalMap element with the ring parameters\n",
        "mybunch = Bunch(ring, mp_number=1e3, current=1e-3)\n",
        "mybunch.init_gaussian()\n",
        "print(mybunch[\"tau\"][:4])\n",
        "print(mybunch[\"delta\"][:4])"
      ],
      "metadata": {
        "id": "hZJ-vdJmKWK6",
        "colab": {
          "base_uri": "https://localhost:8080/"
        },
        "outputId": "9e0bd1bf-c996-4db5-9303-c4b91fca7479"
      },
      "execution_count": null,
      "outputs": [
        {
          "output_type": "stream",
          "name": "stdout",
          "text": [
            "[ 2.24634159e-11  1.65231564e-11 -2.55687133e-11 -1.42320820e-11]\n",
            "[ 0.00102892 -0.00115714 -0.00043317  0.00072424]\n"
          ]
        }
      ]
    },
    {
      "cell_type": "markdown",
      "source": [
        "Tracking the `Bunch` object through the `LongitudinalMap` is done by calling its `track` method with the `Bunch` object as argument."
      ],
      "metadata": {
        "id": "usQ3ju5copUP"
      }
    },
    {
      "cell_type": "code",
      "source": [
        "LongMap.track(mybunch)\n",
        "print(mybunch[\"tau\"][:4])\n",
        "print(mybunch[\"delta\"][:4])"
      ],
      "metadata": {
        "colab": {
          "base_uri": "https://localhost:8080/"
        },
        "id": "RjbOCdSnoIzn",
        "outputId": "5b21c1c2-ee23-4d61-a2ee-23aafb0f1151"
      },
      "execution_count": null,
      "outputs": [
        {
          "output_type": "stream",
          "name": "stdout",
          "text": [
            "[ 2.33589993e-11  1.52326807e-11 -2.61352128e-11 -1.36411723e-11]\n",
            "[ 0.00089558 -0.00129048 -0.0005665   0.00059091]\n"
          ]
        }
      ]
    },
    {
      "cell_type": "markdown",
      "source": [
        "In a similar way, the `RFCavity` element applies:\n",
        "\n",
        "$\\delta = \\delta +  \\frac{V_c}{E_0} \\cos(m \\omega_1 \\tau + \\theta)$"
      ],
      "metadata": {
        "id": "xIN0ZXla6PsU"
      }
    },
    {
      "cell_type": "code",
      "source": [
        "RF = RFCavity(ring, m=1, Vc=1e6, theta=np.arccos(ring.U0/1e6))"
      ],
      "metadata": {
        "id": "-R_INXI-KaJW"
      },
      "execution_count": null,
      "outputs": []
    },
    {
      "cell_type": "markdown",
      "source": [
        "The `SynchrotronRadiation` element applies:\n",
        "\n",
        "$z = \\delta, x', y'$\n",
        "\n",
        "\\begin{equation}\n",
        "    z = \\left (1 - \\frac{2 T_0}{\\tau_z} \\right) z + 2 \\sigma_{z} \\sqrt{\\frac{T_0}{\\tau_z}} \\times \\epsilon\n",
        "\\end{equation}\n",
        "\n",
        "Where $z$ is a generic coordinate which can be $\\delta$, $x'$ or $y'$."
      ],
      "metadata": {
        "id": "5_BDWbbiD4fI"
      }
    },
    {
      "cell_type": "code",
      "source": [
        "SR = SynchrotronRadiation(ring)"
      ],
      "metadata": {
        "id": "_IE_nYL8KrB3"
      },
      "execution_count": null,
      "outputs": []
    },
    {
      "cell_type": "markdown",
      "source": [
        "The `TransverseMap` element applies:\n",
        "\n",
        "\\begin{equation}\n",
        "\\Delta \\mu = 2 \\pi (Q + \\xi \\delta)\n",
        "\\end{equation}\n",
        "\n",
        "\\begin{equation}\n",
        "    M = M_{s_0 \\rightarrow s_0} =\n",
        "    \\begin{bmatrix}\n",
        "        \\cos(\\Delta \\mu) + \\alpha_0 \\sin(\\Delta \\mu) & \\beta_0 \\sin(\\Delta \\mu) & D_0 \\\\\n",
        "        - \\gamma_0 \\sin(\\Delta \\mu) & \\cos(\\Delta \\mu) - \\alpha_0 \\sin(\\Delta \\mu) & D_0'\n",
        "    \\end{bmatrix}\n",
        "\\end{equation}\n",
        "\n",
        "\\begin{equation}\n",
        "    \\begin{bmatrix}\n",
        "        z\\\\\n",
        "        z'\n",
        "    \\end{bmatrix}\n",
        "    =\n",
        "    M\n",
        "    \\begin{bmatrix}\n",
        "        z\\\\\n",
        "        z'\n",
        "    \\end{bmatrix}\n",
        "\\end{equation}\n",
        "\n",
        "Where $z$ is a generic coordinate which can be $x$ or $y$."
      ],
      "metadata": {
        "id": "YYQ3QBMR_HUQ"
      }
    },
    {
      "cell_type": "code",
      "source": [
        "TransMap = TransverseMap(ring)"
      ],
      "metadata": {
        "id": "SZGpmbe2q4yf"
      },
      "execution_count": null,
      "outputs": []
    },
    {
      "cell_type": "markdown",
      "source": [
        "Tracking for many turns in then done by writing a python script using a for loop"
      ],
      "metadata": {
        "id": "SlDlcXVHkzW4"
      }
    },
    {
      "cell_type": "code",
      "source": [
        "turns = 100\n",
        "t1 = time()\n",
        "for i in range(turns):\n",
        "  LongMap.track(mybunch)\n",
        "  SR.track(mybunch)\n",
        "  TransMap.track(mybunch)\n",
        "  RF.track(mybunch)\n",
        "t2 = time()\n",
        "print(t2-t1)"
      ],
      "metadata": {
        "colab": {
          "base_uri": "https://localhost:8080/"
        },
        "id": "1zJFHqgwkZKY",
        "outputId": "80e46bd9-7888-44cd-ae97-cd63346f8020"
      },
      "execution_count": null,
      "outputs": [
        {
          "output_type": "stream",
          "name": "stdout",
          "text": [
            "0.10174679756164551\n"
          ]
        }
      ]
    },
    {
      "cell_type": "markdown",
      "source": [
        "Tracking methods can be used indiscriminately on `Bunch` or `Beam` objects"
      ],
      "metadata": {
        "id": "ICxTFwCJjmqp"
      }
    },
    {
      "cell_type": "code",
      "source": [
        "filling_pattern = np.ones(ring.h)*1e-3 # uniform beam with 1 mA per bunch\n",
        "mybeam = Beam(ring)\n",
        "mybeam.init_beam(filling_pattern, mp_per_bunch=1e3)"
      ],
      "metadata": {
        "id": "ZpkQ7e-2xT7y"
      },
      "execution_count": null,
      "outputs": []
    },
    {
      "cell_type": "markdown",
      "source": [
        "Tracking with `Beam` object can be quite long as the code does an internal loop over all the `Bunch` objects:"
      ],
      "metadata": {
        "id": "AjdjBpk1iu3j"
      }
    },
    {
      "cell_type": "code",
      "source": [
        "turns = 100\n",
        "t1 = time()\n",
        "for i in range(turns):\n",
        "  LongMap.track(mybeam)\n",
        "  SR.track(mybeam)\n",
        "  TransMap.track(mybeam)\n",
        "  RF.track(mybeam)\n",
        "t2 = time()\n",
        "print(t2-t1)"
      ],
      "metadata": {
        "id": "OaJIa4oaIugh",
        "colab": {
          "base_uri": "https://localhost:8080/"
        },
        "outputId": "35006cd7-d19a-4719-f297-c279e6a91723"
      },
      "execution_count": null,
      "outputs": [
        {
          "output_type": "stream",
          "name": "stdout",
          "text": [
            "1.9774551391601562\n"
          ]
        }
      ]
    },
    {
      "cell_type": "markdown",
      "source": [
        "## Using MPI"
      ],
      "metadata": {
        "id": "YqJtFL_OIvSq"
      }
    },
    {
      "cell_type": "markdown",
      "source": [
        "MPI can be used to speed up the tracking when using a `Beam` object by distributing the different `Bunch` objects in different cores.\n",
        "\n",
        "To be able to use this feature, **the python code must be run with as many core as there is of `Bunch` objects in the `Beam`.**"
      ],
      "metadata": {
        "id": "KmnutEIbrZgf"
      }
    },
    {
      "cell_type": "markdown",
      "source": [
        "MPI parallelisation can be enabled during ``Beam`` initialization by setting the ``mpi`` option to ``True``:"
      ],
      "metadata": {
        "id": "dQLd4_Rym5oz"
      }
    },
    {
      "cell_type": "markdown",
      "source": [
        "\n",
        "\n",
        "```\n",
        "mybeam = Beam(ring)\n",
        "mybeam.init_beam(filling_pattern, mp_per_bunch=1e3, mpi=True)\n",
        "```\n",
        "\n"
      ],
      "metadata": {
        "id": "Le0RaqmJIeaO"
      }
    },
    {
      "cell_type": "markdown",
      "source": [
        "# Monitors"
      ],
      "metadata": {
        "id": "a_B5YgHFHaIA"
      }
    },
    {
      "cell_type": "markdown",
      "source": [
        "The ``Monitor`` class and subclasses are used to save tracking data into HDF5 files."
      ],
      "metadata": {
        "id": "O0D4eU01Jrs2"
      }
    },
    {
      "cell_type": "code",
      "source": [
        "from mbtrack2.tracking.monitors import BunchMonitor, BeamMonitor"
      ],
      "metadata": {
        "id": "IXvFc9gZL5Vc"
      },
      "execution_count": null,
      "outputs": []
    },
    {
      "cell_type": "markdown",
      "source": [
        "All classes which inherit from the ``Monitor`` class are linked together and write data to the same HDF5 file which is specify by the ``file_name`` keyword in the first declaration of a ``Monitor``."
      ],
      "metadata": {
        "id": "kU1-MsaaEejd"
      }
    },
    {
      "cell_type": "code",
      "source": [
        "bunchmonitor = BunchMonitor(bunch_number=0, total_size=100, save_every=1, buffer_size=10, mpi_mode=False, file_name=\"tracking\")\n",
        "beammonitor = BeamMonitor(h=ring.h, total_size=100, save_every=1, buffer_size=10, mpi_mode=False)"
      ],
      "metadata": {
        "id": "5fEfD7M0Hb_A"
      },
      "execution_count": null,
      "outputs": []
    },
    {
      "cell_type": "markdown",
      "source": [
        "The different types of ``Monitor`` can then be added in the tracking loop and save data when the ``track`` method is called.\n",
        "\n",
        "At the end of the tracking, the file where the data is written must be closed by calling the ``close`` method on any of the ``Monitor``."
      ],
      "metadata": {
        "id": "a_5S7vnMFoC8"
      }
    },
    {
      "cell_type": "code",
      "source": [
        "turns = 100\n",
        "for i in range(turns):\n",
        "  LongMap.track(mybeam)\n",
        "  SR.track(mybeam)\n",
        "  TransMap.track(mybeam)\n",
        "  RF.track(mybeam)\n",
        "  bunchmonitor.track(mybeam)\n",
        "  beammonitor.track(mybeam)\n",
        "bunchmonitor.close()"
      ],
      "metadata": {
        "id": "Nx0jrcSxL2MN"
      },
      "execution_count": null,
      "outputs": []
    },
    {
      "cell_type": "markdown",
      "source": [
        "The tracking data can then be read from the file after the tracking.\n",
        "\n",
        "A possible solution to do that is to use the ``h5py`` package:"
      ],
      "metadata": {
        "id": "KjIYMfH4Ti1Z"
      }
    },
    {
      "cell_type": "code",
      "source": [
        "import h5py as hp"
      ],
      "metadata": {
        "id": "XlN6ZOVYUehV"
      },
      "execution_count": null,
      "outputs": []
    },
    {
      "cell_type": "code",
      "source": [
        "file = hp.File(\"tracking.hdf5\",\"r\")"
      ],
      "metadata": {
        "id": "G7GxJNryUx8u"
      },
      "execution_count": null,
      "outputs": []
    },
    {
      "cell_type": "markdown",
      "source": [
        "Each ``Monitor`` create a different folder at root of the file, so this file has a structure:"
      ],
      "metadata": {
        "id": "wkTdsKeMAF3k"
      }
    },
    {
      "cell_type": "code",
      "source": [
        "list(file)"
      ],
      "metadata": {
        "id": "dBx5xVOGU4x-",
        "outputId": "2aaae0af-c8b8-49a9-b48b-ca0239772567",
        "colab": {
          "base_uri": "https://localhost:8080/"
        }
      },
      "execution_count": null,
      "outputs": [
        {
          "output_type": "execute_result",
          "data": {
            "text/plain": [
              "['Beam', 'BunchData_0']"
            ]
          },
          "metadata": {},
          "execution_count": 48
        }
      ]
    },
    {
      "cell_type": "markdown",
      "source": [
        "Each folder (called group in ``h5py`` jargon) contains datasets:"
      ],
      "metadata": {
        "id": "b5LmJiirAiL8"
      }
    },
    {
      "cell_type": "code",
      "source": [
        "list(file[\"Beam\"])"
      ],
      "metadata": {
        "id": "innjiKx7XfEf",
        "outputId": "f801e189-61a7-4829-ad7f-e9deb641dea9",
        "colab": {
          "base_uri": "https://localhost:8080/"
        }
      },
      "execution_count": null,
      "outputs": [
        {
          "output_type": "execute_result",
          "data": {
            "text/plain": [
              "['cs_invariant', 'current', 'emit', 'mean', 'std', 'time']"
            ]
          },
          "metadata": {},
          "execution_count": 49
        }
      ]
    },
    {
      "cell_type": "markdown",
      "source": [
        "These datasets contain the tracking data and can be converted to numpy arrays:"
      ],
      "metadata": {
        "id": "-eV9WuZwBXoy"
      }
    },
    {
      "cell_type": "code",
      "source": [
        "print(np.array(file[\"Beam\"][\"emit\"]).shape)\n",
        "print(np.array(file[\"Beam\"][\"emit\"][0,0,:20])) # print the horizontal emittance of the 1st bunch for the first 20 turns\n"
      ],
      "metadata": {
        "id": "Z1W-9Fg8WAUe",
        "outputId": "84bca791-05c8-48b5-ee7d-5b896e2c9c3e",
        "colab": {
          "base_uri": "https://localhost:8080/"
        }
      },
      "execution_count": null,
      "outputs": [
        {
          "output_type": "stream",
          "name": "stdout",
          "text": [
            "(3, 20, 100)\n",
            "[1.02181045e-08 1.02057294e-08 1.02301807e-08 1.02591412e-08\n",
            " 1.02572645e-08 1.02684551e-08 1.02738049e-08 1.02841710e-08\n",
            " 1.02949121e-08 1.02927271e-08 1.02932410e-08 1.03403837e-08\n",
            " 1.03016536e-08 1.03115393e-08 1.03318194e-08 1.03252257e-08\n",
            " 1.03120899e-08 1.03188188e-08 1.02742866e-08 1.02589522e-08]\n"
          ]
        }
      ]
    },
    {
      "cell_type": "markdown",
      "source": [
        "The tracking data can also directly be plotted using the functions provided in ``mbtrack2``:"
      ],
      "metadata": {
        "id": "8IBPZOBlVAXO"
      }
    },
    {
      "cell_type": "code",
      "source": [
        "from mbtrack2.tracking.monitors import plot_beamdata, streak_beamdata"
      ],
      "metadata": {
        "id": "FllM1qNtTiXu"
      },
      "execution_count": null,
      "outputs": []
    },
    {
      "cell_type": "markdown",
      "source": [
        "Plot the mean longitudinal position (center of mass) of all bunches:"
      ],
      "metadata": {
        "id": "GE7Zc-aaU9CK"
      }
    },
    {
      "cell_type": "code",
      "source": [
        "fig = plot_beamdata(filenames=\"tracking.hdf5\", dataset=\"mean\", dimension=\"tau\", stat_var=\"mean\")"
      ],
      "metadata": {
        "id": "pAmIY3JwTaMe",
        "outputId": "432f6a40-dd37-4a05-d629-fd8a9214531e",
        "colab": {
          "base_uri": "https://localhost:8080/",
          "height": 449
        }
      },
      "execution_count": null,
      "outputs": [
        {
          "output_type": "display_data",
          "data": {
            "text/plain": [
              "<Figure size 640x480 with 1 Axes>"
            ],
            "image/png": "[encoded data removed]"
          },
          "metadata": {}
        }
      ]
    },
    {
      "cell_type": "markdown",
      "source": [
        "Plot the mean bunch length of all bunches:"
      ],
      "metadata": {
        "id": "ksdPThgeDBP9"
      }
    },
    {
      "cell_type": "code",
      "source": [
        "fig = plot_beamdata(filenames=\"tracking.hdf5\", dataset=\"std\", dimension=\"tau\", stat_var=\"mean\")"
      ],
      "metadata": {
        "id": "7y6rQp6CTe8-",
        "outputId": "8a857f6f-3161-473b-cac4-83303bf91a6a",
        "colab": {
          "base_uri": "https://localhost:8080/",
          "height": 449
        }
      },
      "execution_count": null,
      "outputs": [
        {
          "output_type": "display_data",
          "data": {
            "text/plain": [
              "<Figure size 640x480 with 1 Axes>"
            ],
            "image/png": "[encoded data removed]"
          },
          "metadata": {}
        }
      ]
    },
    {
      "cell_type": "markdown",
      "source": [
        "Plot the bunch length versus bunch index:"
      ],
      "metadata": {
        "id": "mzruWT76EQRI"
      }
    },
    {
      "cell_type": "code",
      "source": [
        "fig = plot_beamdata(filenames=\"tracking.hdf5\", dataset=\"std\", dimension=\"tau\", x_var=\"index\", turn=50)"
      ],
      "metadata": {
        "colab": {
          "base_uri": "https://localhost:8080/",
          "height": 449
        },
        "id": "Da1NcdPIECNn",
        "outputId": "a8779660-9bde-4f0f-b337-5b277f122d61"
      },
      "execution_count": null,
      "outputs": [
        {
          "output_type": "display_data",
          "data": {
            "text/plain": [
              "<Figure size 640x480 with 1 Axes>"
            ],
            "image/png": "[encoded data removed]"
          },
          "metadata": {}
        }
      ]
    },
    {
      "cell_type": "markdown",
      "source": [
        "Plot the evolution of the longitudinal center of mass versus bunch index:"
      ],
      "metadata": {
        "id": "cOwdsEtpDa7u"
      }
    },
    {
      "cell_type": "code",
      "source": [
        "fig = streak_beamdata(\"tracking.hdf5\", dataset=\"mean\", dimension=\"tau\")"
      ],
      "metadata": {
        "id": "n5c8Jn5jXPpu",
        "colab": {
          "base_uri": "https://localhost:8080/",
          "height": 474
        },
        "outputId": "6365aadf-3080-4dac-ee0e-135c96e6cfa4"
      },
      "execution_count": null,
      "outputs": [
        {
          "output_type": "display_data",
          "data": {
            "text/plain": [
              "<Figure size 640x480 with 2 Axes>"
            ],
            "image/png": "[encoded data removed]"
          },
          "metadata": {}
        }
      ]
    }
  ]
}