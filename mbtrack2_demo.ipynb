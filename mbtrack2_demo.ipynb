{
  "nbformat": 4,
  "nbformat_minor": 0,
  "metadata": {
    "colab": {
      "name": "mbtrack2_demo.ipynb",
      "provenance": [],
      "collapsed_sections": [],
      "toc_visible": true,
      "authorship_tag": "ABX9TyN4S+2+z7zap3fqzjNfAo9h",
      "include_colab_link": true
    },
    "kernelspec": {
      "name": "python3",
      "display_name": "Python 3"
    },
    "language_info": {
      "name": "python"
    }
  },
  "cells": [
    {
      "cell_type": "markdown",
      "metadata": {
        "id": "view-in-github",
        "colab_type": "text"
      },
      "source": [
        "<a href=\"https://colab.research.google.com/github/GamelinAl/mbtrack2_examples/blob/main/mbtrack2_demo.ipynb\" target=\"_parent\"><img src=\"https://colab.research.google.com/assets/colab-badge.svg\" alt=\"Open In Colab\"/></a>"
      ]
    },
    {
      "cell_type": "markdown",
      "source": [
        "# Wellcome to the mbtrack2 demo !\n",
        "\n",
        "The idea behind **mbtrack2** is to build a **coherent object-oriented framework** to work on **collective effects** in synchrotrons. mbtrack2 is composed of different modules allowing to easily write scripts for **single bunch** or **multi-bunch** tracking using MPI parallelization\n",
        "in a transparent way. \n",
        "\n",
        "The base of the tracking model of mbtrack2 is inspired by **mbtrack**, a C multi-bunch tracking code initially developed at SOLEIL. In addition, many tools to prepare or analyse tracking simulations are included.\n",
        "\n",
        "The aim of this notebook is to demonstrate the main features of **mbtrack2** related to **tracking**."
      ],
      "metadata": {
        "id": "IKih_9pcq9Ui"
      }
    },
    {
      "cell_type": "markdown",
      "source": [
        "## Conventions\n",
        "\n",
        "### Tracking\n",
        "In **mbtrack2**, a particle is described as a point $(x,x',y,y',\\tau,\\delta)$ in the 6-dimensional phase-space: \n",
        "+ $x$ and $y$ are the horizontal and vertical position.\n",
        "+ $x'=\\frac{dx}{ds}$ and $y'=\\frac{dy}{ds}$ are the horizontal and vertical transverse momenta. \n",
        "+ $\\tau$ is the time difference with respect to the reference particle.\n",
        "+ $\\delta = \\frac{E - E_0}{E_0}$ is the relative energy deviation from the reference energy $E_0$. \n",
        "\n",
        "A particle is late compared to the reference particle if $\\tau > 0$.\n",
        "\n",
        "### Units\n",
        "mbtrack2 uses SI units.\n",
        "\n",
        "### RF\n",
        "mbtrack2 uses the cosine convention for RF voltage.\n",
        "\n",
        "### Array structure\n",
        "The arrays are strcutured as [horizontal_value, vertical_value, longitudinal_value]."
      ],
      "metadata": {
        "id": "zutgeXaaBjWg"
      }
    },
    {
      "cell_type": "markdown",
      "source": [
        "# Installation"
      ],
      "metadata": {
        "id": "O5fColz-q2EI"
      }
    },
    {
      "cell_type": "code",
      "execution_count": 1,
      "metadata": {
        "colab": {
          "base_uri": "https://localhost:8080/"
        },
        "id": "BKGTZA_EvtF6",
        "outputId": "9055e39b-7880-476d-9472-49b91c69061f"
      },
      "outputs": [
        {
          "output_type": "stream",
          "name": "stdout",
          "text": [
            "Cloning into 'mbtrack2'...\n",
            "remote: Enumerating objects: 1139, done.\u001b[K\n",
            "remote: Counting objects: 100% (231/231), done.\u001b[K\n",
            "remote: Compressing objects: 100% (82/82), done.\n",
            "remote: Total 1139 (delta 159), reused 213 (delta 148), pack-reused 908\u001b[K\n",
            "Receiving objects: 100% (1139/1139), 353.44 KiB | 2.12 MiB/s, done.\n",
            "Resolving deltas: 100% (756/756), done.\n"
          ]
        }
      ],
      "source": [
        "! git clone --single-branch --branch Prepare_version https://gitlab.synchrotron-soleil.fr/PA/collective-effects/mbtrack2.git"
      ]
    },
    {
      "cell_type": "code",
      "source": [
        "%cd mbtrack2"
      ],
      "metadata": {
        "colab": {
          "base_uri": "https://localhost:8080/"
        },
        "id": "aIwNdoXlVDus",
        "outputId": "3ae1415a-8298-4bc1-b1a9-92c1fe0c3fdd"
      },
      "execution_count": 2,
      "outputs": [
        {
          "output_type": "stream",
          "name": "stdout",
          "text": [
            "/content/mbtrack2\n"
          ]
        }
      ]
    },
    {
      "cell_type": "code",
      "source": [
        "pip install -r requirements.txt"
      ],
      "metadata": {
        "colab": {
          "base_uri": "https://localhost:8080/"
        },
        "id": "hEbdSRmKRkFS",
        "outputId": "3d2519df-5dac-4558-f84d-e1bbb43238ac"
      },
      "execution_count": 3,
      "outputs": [
        {
          "output_type": "stream",
          "name": "stdout",
          "text": [
            "Requirement already satisfied: numpy in /usr/local/lib/python3.7/dist-packages (from -r requirements.txt (line 1)) (1.21.5)\n",
            "Requirement already satisfied: pandas in /usr/local/lib/python3.7/dist-packages (from -r requirements.txt (line 2)) (1.3.5)\n",
            "Requirement already satisfied: scipy in /usr/local/lib/python3.7/dist-packages (from -r requirements.txt (line 3)) (1.4.1)\n",
            "Requirement already satisfied: h5py in /usr/local/lib/python3.7/dist-packages (from -r requirements.txt (line 4)) (3.1.0)\n",
            "Collecting mpi4py\n",
            "  Downloading mpi4py-3.1.3.tar.gz (2.5 MB)\n",
            "\u001b[K     |████████████████████████████████| 2.5 MB 4.4 MB/s \n",
            "\u001b[?25h  Installing build dependencies ... \u001b[?25l\u001b[?25hdone\n",
            "  Getting requirements to build wheel ... \u001b[?25l\u001b[?25hdone\n",
            "    Preparing wheel metadata ... \u001b[?25l\u001b[?25hdone\n",
            "Requirement already satisfied: matplotlib in /usr/local/lib/python3.7/dist-packages (from -r requirements.txt (line 6)) (3.2.2)\n",
            "Requirement already satisfied: seaborn in /usr/local/lib/python3.7/dist-packages (from -r requirements.txt (line 7)) (0.11.2)\n",
            "Requirement already satisfied: mpmath in /usr/local/lib/python3.7/dist-packages (from -r requirements.txt (line 8)) (1.2.1)\n",
            "Requirement already satisfied: ipykernel in /usr/local/lib/python3.7/dist-packages (from -r requirements.txt (line 9)) (4.10.1)\n",
            "Requirement already satisfied: python-dateutil>=2.7.3 in /usr/local/lib/python3.7/dist-packages (from pandas->-r requirements.txt (line 2)) (2.8.2)\n",
            "Requirement already satisfied: pytz>=2017.3 in /usr/local/lib/python3.7/dist-packages (from pandas->-r requirements.txt (line 2)) (2018.9)\n",
            "Requirement already satisfied: six>=1.5 in /usr/local/lib/python3.7/dist-packages (from python-dateutil>=2.7.3->pandas->-r requirements.txt (line 2)) (1.15.0)\n",
            "Requirement already satisfied: cached-property in /usr/local/lib/python3.7/dist-packages (from h5py->-r requirements.txt (line 4)) (1.5.2)\n",
            "Requirement already satisfied: pyparsing!=2.0.4,!=2.1.2,!=2.1.6,>=2.0.1 in /usr/local/lib/python3.7/dist-packages (from matplotlib->-r requirements.txt (line 6)) (3.0.7)\n",
            "Requirement already satisfied: kiwisolver>=1.0.1 in /usr/local/lib/python3.7/dist-packages (from matplotlib->-r requirements.txt (line 6)) (1.4.0)\n",
            "Requirement already satisfied: cycler>=0.10 in /usr/local/lib/python3.7/dist-packages (from matplotlib->-r requirements.txt (line 6)) (0.11.0)\n",
            "Requirement already satisfied: typing-extensions in /usr/local/lib/python3.7/dist-packages (from kiwisolver>=1.0.1->matplotlib->-r requirements.txt (line 6)) (3.10.0.2)\n",
            "Requirement already satisfied: ipython>=4.0.0 in /usr/local/lib/python3.7/dist-packages (from ipykernel->-r requirements.txt (line 9)) (5.5.0)\n",
            "Requirement already satisfied: traitlets>=4.1.0 in /usr/local/lib/python3.7/dist-packages (from ipykernel->-r requirements.txt (line 9)) (5.1.1)\n",
            "Requirement already satisfied: jupyter-client in /usr/local/lib/python3.7/dist-packages (from ipykernel->-r requirements.txt (line 9)) (5.3.5)\n",
            "Requirement already satisfied: tornado>=4.0 in /usr/local/lib/python3.7/dist-packages (from ipykernel->-r requirements.txt (line 9)) (5.1.1)\n",
            "Requirement already satisfied: setuptools>=18.5 in /usr/local/lib/python3.7/dist-packages (from ipython>=4.0.0->ipykernel->-r requirements.txt (line 9)) (57.4.0)\n",
            "Requirement already satisfied: simplegeneric>0.8 in /usr/local/lib/python3.7/dist-packages (from ipython>=4.0.0->ipykernel->-r requirements.txt (line 9)) (0.8.1)\n",
            "Requirement already satisfied: pygments in /usr/local/lib/python3.7/dist-packages (from ipython>=4.0.0->ipykernel->-r requirements.txt (line 9)) (2.6.1)\n",
            "Requirement already satisfied: pexpect in /usr/local/lib/python3.7/dist-packages (from ipython>=4.0.0->ipykernel->-r requirements.txt (line 9)) (4.8.0)\n",
            "Requirement already satisfied: decorator in /usr/local/lib/python3.7/dist-packages (from ipython>=4.0.0->ipykernel->-r requirements.txt (line 9)) (4.4.2)\n",
            "Requirement already satisfied: prompt-toolkit<2.0.0,>=1.0.4 in /usr/local/lib/python3.7/dist-packages (from ipython>=4.0.0->ipykernel->-r requirements.txt (line 9)) (1.0.18)\n",
            "Requirement already satisfied: pickleshare in /usr/local/lib/python3.7/dist-packages (from ipython>=4.0.0->ipykernel->-r requirements.txt (line 9)) (0.7.5)\n",
            "Requirement already satisfied: wcwidth in /usr/local/lib/python3.7/dist-packages (from prompt-toolkit<2.0.0,>=1.0.4->ipython>=4.0.0->ipykernel->-r requirements.txt (line 9)) (0.2.5)\n",
            "Requirement already satisfied: pyzmq>=13 in /usr/local/lib/python3.7/dist-packages (from jupyter-client->ipykernel->-r requirements.txt (line 9)) (22.3.0)\n",
            "Requirement already satisfied: jupyter-core>=4.6.0 in /usr/local/lib/python3.7/dist-packages (from jupyter-client->ipykernel->-r requirements.txt (line 9)) (4.9.2)\n",
            "Requirement already satisfied: ptyprocess>=0.5 in /usr/local/lib/python3.7/dist-packages (from pexpect->ipython>=4.0.0->ipykernel->-r requirements.txt (line 9)) (0.7.0)\n",
            "Building wheels for collected packages: mpi4py\n",
            "  Building wheel for mpi4py (PEP 517) ... \u001b[?25l\u001b[?25hdone\n",
            "  Created wheel for mpi4py: filename=mpi4py-3.1.3-cp37-cp37m-linux_x86_64.whl size=2185309 sha256=3a2d6abfc67712c2ccafcb0609da3bc6e3dbe4c121d92f1ab7c76444c9546f98\n",
            "  Stored in directory: /root/.cache/pip/wheels/7a/07/14/6a0c63fa2c6e473c6edc40985b7d89f05c61ff25ee7f0ad9ac\n",
            "Successfully built mpi4py\n",
            "Installing collected packages: mpi4py\n",
            "Successfully installed mpi4py-3.1.3\n"
          ]
        }
      ]
    },
    {
      "cell_type": "markdown",
      "source": [
        "# Synchrotron object"
      ],
      "metadata": {
        "id": "-CHO7pYlsa76"
      }
    },
    {
      "cell_type": "code",
      "source": [
        "import numpy as np\n",
        "from mbtrack2.tracking import Synchrotron, Electron\n",
        "from mbtrack2.utilities import Optics"
      ],
      "metadata": {
        "id": "ewMLyHDOslSD"
      },
      "execution_count": 4,
      "outputs": []
    },
    {
      "cell_type": "markdown",
      "source": [
        "To known how to use and define mbtrack2 classes, use the help:\n",
        "\n",
        "\n",
        "```\n",
        "help(Synchrotron)\n",
        "```\n",
        "\n"
      ],
      "metadata": {
        "id": "WsbeELvuyder"
      }
    },
    {
      "cell_type": "markdown",
      "source": [
        "Let us define some paramter for our synchrotron:"
      ],
      "metadata": {
        "id": "07gwix3w1Fat"
      }
    },
    {
      "cell_type": "code",
      "source": [
        "h = 20 # Harmonic number of the accelerator.\n",
        "L = 100 # Ring circumference in [m].\n",
        "E0 = 1.5e9 # Nominal (total) energy of the ring in [eV].\n",
        "particle = Electron() # Particle considered.\n",
        "ac = 1e-3 # Momentum compaction factor.\n",
        "U0 = 200e3 # Energy loss per turn in [eV].\n",
        "tau = np.array([1e-3, 1e-3, 2e-3]) # Horizontal, vertical and longitudinal damping times in [s].\n",
        "tune = np.array([12.2, 15.3]) # Horizontal and vertical tunes.\n",
        "emit = np.array([10e-9, 10e-12]) # Horizontal and vertical equilibrium emittance in [m.rad].\n",
        "sigma_0 = 15e-12 # Natural bunch length in [s].\n",
        "sigma_delta = 1e-3 # Equilibrium energy spread.\n",
        "chro = [2.0, 3.0] # Horizontal and vertical (non-normalized) chromaticities."
      ],
      "metadata": {
        "id": "GH7V8wmmxH4i"
      },
      "execution_count": 5,
      "outputs": []
    },
    {
      "cell_type": "markdown",
      "source": [
        "The `Optics` class stores optic functions related values.\n",
        "\n",
        "Here we define the values of the optic functions at the tracking location:"
      ],
      "metadata": {
        "id": "edkvIwjs1vdK"
      }
    },
    {
      "cell_type": "code",
      "source": [
        "local_beta = np.array([3, 2]) # Beta function at the tracking location.\n",
        "local_alpha = np.array([0, 0]) # Alpha function at the tracking location.\n",
        "local_dispersion = np.array([0, 0, 0, 0]) # Dispersion function and its derivative at the tracking location.\n",
        "optics = Optics(local_beta=local_beta, local_alpha=local_alpha, \n",
        "                  local_dispersion=local_dispersion)"
      ],
      "metadata": {
        "id": "yY9Fh3JR1rQy"
      },
      "execution_count": 6,
      "outputs": []
    },
    {
      "cell_type": "markdown",
      "source": [
        "The `Synchrotron` class stores most global lattice parameters:"
      ],
      "metadata": {
        "id": "D41nqm3b2aqH"
      }
    },
    {
      "cell_type": "code",
      "source": [
        "ring = Synchrotron(h=h, optics=optics, particle=particle, L=L, E0=E0, ac=ac, \n",
        "                   U0=U0, tau=tau, emit=emit, tune=tune, \n",
        "                   sigma_delta=sigma_delta, sigma_0=sigma_0, chro=chro)"
      ],
      "metadata": {
        "id": "WiPq6SDLvbjC"
      },
      "execution_count": 7,
      "outputs": []
    },
    {
      "cell_type": "markdown",
      "source": [
        "Now the `Synchrotron` object can be used:"
      ],
      "metadata": {
        "id": "sP2NaRwt3yRM"
      }
    },
    {
      "cell_type": "code",
      "source": [
        "ring.T0 # Revolution time in [s]."
      ],
      "metadata": {
        "colab": {
          "base_uri": "https://localhost:8080/"
        },
        "id": "fr96wM893xLc",
        "outputId": "72db3bcd-9f62-4c0e-9889-6bfff7ad6483"
      },
      "execution_count": 8,
      "outputs": [
        {
          "output_type": "execute_result",
          "data": {
            "text/plain": [
              "3.3356409519815204e-07"
            ]
          },
          "metadata": {},
          "execution_count": 8
        }
      ]
    },
    {
      "cell_type": "code",
      "source": [
        "ring.f1 # Fundamental RF frequency in [Hz]."
      ],
      "metadata": {
        "colab": {
          "base_uri": "https://localhost:8080/"
        },
        "id": "EDTia9Ol5IGk",
        "outputId": "61b341e0-e581-41c0-8b3b-75ae5cac3a81"
      },
      "execution_count": 9,
      "outputs": [
        {
          "output_type": "execute_result",
          "data": {
            "text/plain": [
              "59958491.6"
            ]
          },
          "metadata": {},
          "execution_count": 9
        }
      ]
    },
    {
      "cell_type": "code",
      "source": [
        "ring.gamma # Relativistic Lorentz gamma."
      ],
      "metadata": {
        "colab": {
          "base_uri": "https://localhost:8080/"
        },
        "id": "EBsio2fw5PCU",
        "outputId": "69b11202-7793-4e62-9382-e668d88c4937"
      },
      "execution_count": 10,
      "outputs": [
        {
          "output_type": "execute_result",
          "data": {
            "text/plain": [
              "2935.42677536081"
            ]
          },
          "metadata": {},
          "execution_count": 10
        }
      ]
    },
    {
      "cell_type": "markdown",
      "source": [
        "Most class attributes in mbtrack are dynamically linked when possible:"
      ],
      "metadata": {
        "id": "Jemrr4Ey5nZu"
      }
    },
    {
      "cell_type": "code",
      "source": [
        "ring.T0 = 1e-6 # Revolution time in [s].\n",
        "ring.L # Ring circumference in [m]."
      ],
      "metadata": {
        "colab": {
          "base_uri": "https://localhost:8080/"
        },
        "id": "lf5h3gTj5xGk",
        "outputId": "b4c244e8-273d-4e61-c4ca-7cd3228c7029"
      },
      "execution_count": 11,
      "outputs": [
        {
          "output_type": "execute_result",
          "data": {
            "text/plain": [
              "299.792458"
            ]
          },
          "metadata": {},
          "execution_count": 11
        }
      ]
    },
    {
      "cell_type": "markdown",
      "source": [
        "An Accelerator Toolbox (AT) format lattice can also be loaded using:\n",
        "\n",
        "\n",
        "```\n",
        "optics = Optics(lattice_file=lattice_file)\n",
        "ring = Synchrotron(h, optics, particle)\n",
        "```\n",
        "In that case, the AT lattice paramters are used to fill the `Synchrotron` object.\n"
      ],
      "metadata": {
        "id": "_-sj3Jlu37Rc"
      }
    },
    {
      "cell_type": "markdown",
      "source": [
        "Main conventions used:\n",
        "+ mbtrack2 uses SI units.\n",
        "+ the arrays are strcutured as `[horizontal_value, vertical_value, longitudinal_value]`."
      ],
      "metadata": {
        "id": "ZriCgRYIzkvr"
      }
    },
    {
      "cell_type": "markdown",
      "source": [
        "# Bunch and Beam objects"
      ],
      "metadata": {
        "id": "OW9YgunevfKb"
      }
    },
    {
      "cell_type": "code",
      "source": [
        "from mbtrack2.tracking import Bunch, Beam"
      ],
      "metadata": {
        "id": "ne2yGLJ06s6O"
      },
      "execution_count": 12,
      "outputs": []
    },
    {
      "cell_type": "markdown",
      "source": [
        "## Bunch"
      ],
      "metadata": {
        "id": "TCu24f639KrW"
      }
    },
    {
      "cell_type": "markdown",
      "source": [
        "Defines a `Bunch` object with 5 macro-particles and a current of 1 mA:"
      ],
      "metadata": {
        "id": "k9_SrmgK-gSN"
      }
    },
    {
      "cell_type": "code",
      "source": [
        "mybunch = Bunch(ring, mp_number=5, current=1e-3)\n",
        "mybunch"
      ],
      "metadata": {
        "colab": {
          "base_uri": "https://localhost:8080/"
        },
        "id": "FSu6AiVB62bd",
        "outputId": "9c7ea68f-4bd4-4953-80da-b31b366123b6"
      },
      "execution_count": 13,
      "outputs": [
        {
          "output_type": "execute_result",
          "data": {
            "text/plain": [
              "     x   xp    y   yp  tau  delta\n",
              "0  0.0  0.0  0.0  0.0  0.0    0.0\n",
              "1  0.0  0.0  0.0  0.0  0.0    0.0\n",
              "2  0.0  0.0  0.0  0.0  0.0    0.0\n",
              "3  0.0  0.0  0.0  0.0  0.0    0.0\n",
              "4  0.0  0.0  0.0  0.0  0.0    0.0"
            ]
          },
          "metadata": {},
          "execution_count": 13
        }
      ]
    },
    {
      "cell_type": "markdown",
      "source": [
        "The coordinates for a single dimension can be accessed by brackets:"
      ],
      "metadata": {
        "id": "-ZLDs32W-rxN"
      }
    },
    {
      "cell_type": "code",
      "source": [
        "mybunch[\"x\"]"
      ],
      "metadata": {
        "colab": {
          "base_uri": "https://localhost:8080/"
        },
        "id": "fYYWiGaH8PGt",
        "outputId": "50009879-e2de-49d7-e5e5-72bca8acd61b"
      },
      "execution_count": 14,
      "outputs": [
        {
          "output_type": "execute_result",
          "data": {
            "text/plain": [
              "array([0., 0., 0., 0., 0.])"
            ]
          },
          "metadata": {},
          "execution_count": 14
        }
      ]
    },
    {
      "cell_type": "code",
      "source": [
        "mybunch[\"x\"] += 1e-3 # add 1 mm offset in horizontal dimension\n",
        "mybunch"
      ],
      "metadata": {
        "colab": {
          "base_uri": "https://localhost:8080/"
        },
        "id": "qHfFJlD38SVE",
        "outputId": "cf86222b-f128-4749-b1a6-fa4bb1b57c84"
      },
      "execution_count": 15,
      "outputs": [
        {
          "output_type": "execute_result",
          "data": {
            "text/plain": [
              "       x   xp    y   yp  tau  delta\n",
              "0  0.001  0.0  0.0  0.0  0.0    0.0\n",
              "1  0.001  0.0  0.0  0.0  0.0    0.0\n",
              "2  0.001  0.0  0.0  0.0  0.0    0.0\n",
              "3  0.001  0.0  0.0  0.0  0.0    0.0\n",
              "4  0.001  0.0  0.0  0.0  0.0    0.0"
            ]
          },
          "metadata": {},
          "execution_count": 15
        }
      ]
    },
    {
      "cell_type": "markdown",
      "source": [
        "Initialize the bunch macro-particles to have gaussian distribution corresponding to the `Synchrotron` object equilibrium parameters:"
      ],
      "metadata": {
        "id": "vtAPNcAX_CX9"
      }
    },
    {
      "cell_type": "code",
      "source": [
        "mybunch.init_gaussian()\n",
        "mybunch"
      ],
      "metadata": {
        "colab": {
          "base_uri": "https://localhost:8080/"
        },
        "id": "bfquwwF28GZN",
        "outputId": "3437630d-c197-4243-e263-87a8f565bace"
      },
      "execution_count": 16,
      "outputs": [
        {
          "output_type": "execute_result",
          "data": {
            "text/plain": [
              "          x        xp             y            yp           tau     delta\n",
              "0 -0.000275  0.000023 -3.990259e-06 -9.137752e-07 -2.038823e-11 -0.000468\n",
              "1  0.000085 -0.000061  3.851642e-06  9.884188e-07  4.061327e-12  0.000439\n",
              "2  0.000184  0.000096  3.480404e-07 -1.903202e-07  2.305964e-11  0.000218\n",
              "3  0.000156  0.000079  1.048913e-05  6.909918e-07 -1.757496e-11 -0.002020\n",
              "4 -0.000039 -0.000030 -1.403803e-06 -1.577670e-06  1.561858e-11  0.000697"
            ]
          },
          "metadata": {},
          "execution_count": 16
        }
      ]
    },
    {
      "cell_type": "markdown",
      "source": [
        "Compute statistical quantities for each dimensions:"
      ],
      "metadata": {
        "id": "rQg66J_a-Kmf"
      }
    },
    {
      "cell_type": "code",
      "source": [
        "mybunch.mean # Mean position of alive particles for each coordinates."
      ],
      "metadata": {
        "colab": {
          "base_uri": "https://localhost:8080/"
        },
        "id": "goQf8y_Z9msV",
        "outputId": "0569a031-a755-4c7b-d333-d47c1c232e90"
      },
      "execution_count": 17,
      "outputs": [
        {
          "output_type": "execute_result",
          "data": {
            "text/plain": [
              "array([ 2.21599614e-05,  2.14273680e-05,  1.85894978e-06, -2.00470928e-07,\n",
              "        9.55271983e-13, -2.27119142e-04])"
            ]
          },
          "metadata": {},
          "execution_count": 17
        }
      ]
    },
    {
      "cell_type": "code",
      "source": [
        "mybunch.std # Standard deviation of the position of alive particles for each coordinates."
      ],
      "metadata": {
        "colab": {
          "base_uri": "https://localhost:8080/"
        },
        "outputId": "2b559611-1e4c-4115-d406-9779a5fd312d",
        "id": "WGSbxuqz9yd-"
      },
      "execution_count": 18,
      "outputs": [
        {
          "output_type": "execute_result",
          "data": {
            "text/plain": [
              "array([1.67460054e-04, 6.04887357e-05, 5.01183481e-06, 9.60598506e-07,\n",
              "       1.73906724e-11, 9.76338122e-04])"
            ]
          },
          "metadata": {},
          "execution_count": 18
        }
      ]
    },
    {
      "cell_type": "code",
      "source": [
        "mybunch.emit # Bunch emittance for each plane."
      ],
      "metadata": {
        "colab": {
          "base_uri": "https://localhost:8080/"
        },
        "outputId": "c322a722-2611-48f4-8d69-a0ff62cd8553",
        "id": "wVxnRwNa92dP"
      },
      "execution_count": 19,
      "outputs": [
        {
          "output_type": "execute_result",
          "data": {
            "text/plain": [
              "array([1.01115075e-08, 4.01979606e-12, 1.21422461e-14])"
            ]
          },
          "metadata": {},
          "execution_count": 19
        }
      ]
    },
    {
      "cell_type": "markdown",
      "source": [
        "Change the bunch current:"
      ],
      "metadata": {
        "id": "wxGJdCug_toP"
      }
    },
    {
      "cell_type": "code",
      "source": [
        "mybunch.current # bunch current in [A]"
      ],
      "metadata": {
        "colab": {
          "base_uri": "https://localhost:8080/"
        },
        "id": "zvogt_6F8qf9",
        "outputId": "e5c41263-d0bf-4ab8-d761-52bfe319a126"
      },
      "execution_count": 20,
      "outputs": [
        {
          "output_type": "execute_result",
          "data": {
            "text/plain": [
              "0.001"
            ]
          },
          "metadata": {},
          "execution_count": 20
        }
      ]
    },
    {
      "cell_type": "code",
      "source": [
        "mybunch.charge = 5e-9 # charge in [C]\n",
        "mybunch.current"
      ],
      "metadata": {
        "colab": {
          "base_uri": "https://localhost:8080/"
        },
        "id": "YjJnW_bS83M-",
        "outputId": "9cf3b7d7-9b29-41da-e9bc-7e6f1514cca2"
      },
      "execution_count": 21,
      "outputs": [
        {
          "output_type": "execute_result",
          "data": {
            "text/plain": [
              "0.005"
            ]
          },
          "metadata": {},
          "execution_count": 21
        }
      ]
    },
    {
      "cell_type": "markdown",
      "source": [
        "This boolean array shows which macro-particles are still \"alive\" and thoses which are lost:"
      ],
      "metadata": {
        "id": "iwvnYOC3Goiz"
      }
    },
    {
      "cell_type": "code",
      "source": [
        "mybunch.alive"
      ],
      "metadata": {
        "colab": {
          "base_uri": "https://localhost:8080/"
        },
        "id": "ecLdAvVGGowh",
        "outputId": "86fd6795-69f3-4fb2-deee-dfed5728b831"
      },
      "execution_count": 22,
      "outputs": [
        {
          "output_type": "execute_result",
          "data": {
            "text/plain": [
              "array([ True,  True,  True,  True,  True])"
            ]
          },
          "metadata": {},
          "execution_count": 22
        }
      ]
    },
    {
      "cell_type": "code",
      "source": [
        "mybunch.alive[2] = False\n",
        "mybunch.alive"
      ],
      "metadata": {
        "colab": {
          "base_uri": "https://localhost:8080/"
        },
        "id": "5LD2UhGzGwXh",
        "outputId": "7c3d798b-dda9-48e7-b76e-3b3387e84ffe"
      },
      "execution_count": 23,
      "outputs": [
        {
          "output_type": "execute_result",
          "data": {
            "text/plain": [
              "array([ True,  True, False,  True,  True])"
            ]
          },
          "metadata": {},
          "execution_count": 23
        }
      ]
    },
    {
      "cell_type": "markdown",
      "source": [
        "Lost marco-particles are no longer taken in account for the tracking or to compute bunch parameters:"
      ],
      "metadata": {
        "id": "9rHqIEbiH0W6"
      }
    },
    {
      "cell_type": "code",
      "source": [
        "mybunch.current"
      ],
      "metadata": {
        "colab": {
          "base_uri": "https://localhost:8080/"
        },
        "id": "ZM0TIBMQHCIh",
        "outputId": "083a39b4-b294-4558-89aa-8ab11d6210e2"
      },
      "execution_count": 24,
      "outputs": [
        {
          "output_type": "execute_result",
          "data": {
            "text/plain": [
              "0.004"
            ]
          },
          "metadata": {},
          "execution_count": 24
        }
      ]
    },
    {
      "cell_type": "code",
      "source": [
        "mybunch"
      ],
      "metadata": {
        "colab": {
          "base_uri": "https://localhost:8080/"
        },
        "id": "VvJr03_fG2-R",
        "outputId": "67960aa4-7e1d-4fea-a749-1b24ad476afc"
      },
      "execution_count": 25,
      "outputs": [
        {
          "output_type": "execute_result",
          "data": {
            "text/plain": [
              "          x        xp         y            yp           tau     delta\n",
              "0 -0.000275  0.000023 -0.000004 -9.137752e-07 -2.038823e-11 -0.000468\n",
              "1  0.000085 -0.000061  0.000004  9.884188e-07  4.061327e-12  0.000439\n",
              "2  0.000156  0.000079  0.000010  6.909918e-07 -1.757496e-11 -0.002020\n",
              "3 -0.000039 -0.000030 -0.000001 -1.577670e-06  1.561858e-11  0.000697"
            ]
          },
          "metadata": {},
          "execution_count": 25
        }
      ]
    },
    {
      "cell_type": "markdown",
      "source": [
        "## Beam"
      ],
      "metadata": {
        "id": "P63zTaJy9ODW"
      }
    },
    {
      "cell_type": "markdown",
      "source": [
        "The `Beam` class is defined like an array container for `Bunch` objects:"
      ],
      "metadata": {
        "id": "uhXjn-9OFprq"
      }
    },
    {
      "cell_type": "code",
      "source": [
        "mybeam = Beam(ring) # define an empty beam\n",
        "mybeam[0] # no bunch in the 1st RF bucket as the beam is empty"
      ],
      "metadata": {
        "colab": {
          "base_uri": "https://localhost:8080/"
        },
        "id": "-BvT1LHlLG0x",
        "outputId": "2170b3ec-4489-4021-ce3b-a85242463b69"
      },
      "execution_count": 26,
      "outputs": [
        {
          "output_type": "execute_result",
          "data": {
            "text/plain": [
              "Empty DataFrame\n",
              "Columns: [x, xp, y, yp, tau, delta]\n",
              "Index: []"
            ]
          },
          "metadata": {},
          "execution_count": 26
        }
      ]
    },
    {
      "cell_type": "markdown",
      "source": [
        "Define a filling pattern for our beam:"
      ],
      "metadata": {
        "id": "ksWbaINQMW_B"
      }
    },
    {
      "cell_type": "code",
      "source": [
        "filling_pattern = np.zeros(ring.h) # empty array of size ring.h\n",
        "filling_pattern[0:10] = 10e-3 # the first 10 bunches will be filled with 10 mA\n",
        "filling_pattern[10:15] = 5e-3\n",
        "filling_pattern[15:20] = 20e-3"
      ],
      "metadata": {
        "id": "Gu6w6ARULRGw"
      },
      "execution_count": 27,
      "outputs": []
    },
    {
      "cell_type": "markdown",
      "source": [
        "Initialize our `Beam` object with a given filling pattern and 1000 macro-particles per bunch:"
      ],
      "metadata": {
        "id": "Q00sKqy0LYLC"
      }
    },
    {
      "cell_type": "code",
      "source": [
        "mybeam.init_beam(filling_pattern, mp_per_bunch=1e3)"
      ],
      "metadata": {
        "id": "4y4gLQpPxKdi"
      },
      "execution_count": 28,
      "outputs": []
    },
    {
      "cell_type": "markdown",
      "source": [
        "It is possible to access the bunch located in the $n^{th}$ RF bucket using brackets:  "
      ],
      "metadata": {
        "id": "QfGks1tzNAYK"
      }
    },
    {
      "cell_type": "code",
      "source": [
        "mybeam[5]"
      ],
      "metadata": {
        "colab": {
          "base_uri": "https://localhost:8080/"
        },
        "id": "OrlG-LEJM5ci",
        "outputId": "712eb454-5f07-4215-b88e-47ce72c72d2b"
      },
      "execution_count": 29,
      "outputs": [
        {
          "output_type": "execute_result",
          "data": {
            "text/plain": [
              "            x        xp             y            yp           tau     delta\n",
              "0   -0.000145  0.000009  1.259542e-06 -7.940260e-07  1.333241e-11 -0.002162\n",
              "1    0.000081  0.000042  2.878461e-06  1.783012e-06 -2.239464e-11 -0.000122\n",
              "2   -0.000342 -0.000039  2.217722e-06 -1.223256e-06  9.086514e-12 -0.000435\n",
              "3   -0.000101  0.000080  4.005156e-06  2.622810e-06 -1.687428e-11  0.000646\n",
              "4    0.000123 -0.000042  4.945524e-06 -1.700663e-06  6.644834e-12  0.001361\n",
              "..        ...       ...           ...           ...           ...       ...\n",
              "995 -0.000108  0.000061 -2.942215e-06 -3.433479e-06  2.708410e-11 -0.000040\n",
              "996 -0.000091  0.000082  6.334167e-06 -4.416666e-07  1.492503e-11 -0.000480\n",
              "997  0.000106  0.000063 -3.129841e-06  5.595302e-07 -2.141692e-11 -0.000229\n",
              "998  0.000109 -0.000052 -2.610447e-07 -7.657716e-07  1.467241e-11 -0.000507\n",
              "999  0.000064 -0.000019 -7.635700e-06  1.383878e-06 -1.263746e-11  0.000807\n",
              "\n",
              "[1000 rows x 6 columns]"
            ]
          },
          "metadata": {},
          "execution_count": 29
        }
      ]
    },
    {
      "cell_type": "markdown",
      "source": [
        "Beam and bunch parameters can be accessed:"
      ],
      "metadata": {
        "id": "20bTKa2cNqAy"
      }
    },
    {
      "cell_type": "code",
      "source": [
        "mybeam.current # Total beam current in [A]"
      ],
      "metadata": {
        "colab": {
          "base_uri": "https://localhost:8080/"
        },
        "id": "J8FQ-O9UN5KB",
        "outputId": "8f7b0a0a-595e-45f6-d678-866bd321d737"
      },
      "execution_count": 30,
      "outputs": [
        {
          "output_type": "execute_result",
          "data": {
            "text/plain": [
              "0.22499999999999998"
            ]
          },
          "metadata": {},
          "execution_count": 30
        }
      ]
    },
    {
      "cell_type": "code",
      "source": [
        "mybeam.bunch_current # Current in each bunch in [A]"
      ],
      "metadata": {
        "colab": {
          "base_uri": "https://localhost:8080/"
        },
        "id": "rHVy7Yc4N5OR",
        "outputId": "54c304ad-28e2-45f6-e80f-39d959abd9a3"
      },
      "execution_count": 31,
      "outputs": [
        {
          "output_type": "execute_result",
          "data": {
            "text/plain": [
              "array([0.01 , 0.01 , 0.01 , 0.01 , 0.01 , 0.01 , 0.01 , 0.01 , 0.01 ,\n",
              "       0.01 , 0.005, 0.005, 0.005, 0.005, 0.005, 0.02 , 0.02 , 0.02 ,\n",
              "       0.02 , 0.02 ])"
            ]
          },
          "metadata": {},
          "execution_count": 31
        }
      ]
    },
    {
      "cell_type": "code",
      "source": [
        "fig = mybeam.plot(\"bunch_current\")"
      ],
      "metadata": {
        "colab": {
          "base_uri": "https://localhost:8080/",
          "height": 279
        },
        "id": "ojlDHKd0L3QB",
        "outputId": "6ff21dc1-76bc-4db8-f909-baee5d052ec2"
      },
      "execution_count": 32,
      "outputs": [
        {
          "output_type": "display_data",
          "data": {
            "text/plain": [
              "<Figure size 432x288 with 1 Axes>"
            ],
            "image/png": "[encoded data removed]"
          },
          "metadata": {
            "needs_background": "light"
          }
        }
      ]
    },
    {
      "cell_type": "code",
      "source": [
        "fig = mybeam.plot(\"bunch_emit\",\"x\")"
      ],
      "metadata": {
        "colab": {
          "base_uri": "https://localhost:8080/",
          "height": 283
        },
        "id": "giCTESPhZHLg",
        "outputId": "7f540552-24c8-4fc4-d349-d402de2abd8f"
      },
      "execution_count": 33,
      "outputs": [
        {
          "output_type": "display_data",
          "data": {
            "text/plain": [
              "<Figure size 432x288 with 1 Axes>"
            ],
            "image/png": "[encoded data removed]"
          },
          "metadata": {
            "needs_background": "light"
          }
        }
      ]
    },
    {
      "cell_type": "markdown",
      "source": [
        "# Tracking"
      ],
      "metadata": {
        "id": "bT_CpT4F_0tv"
      }
    },
    {
      "cell_type": "markdown",
      "source": [
        "In mbtrack2, tracking is done by calling the `track` method from different objects. This `track` method applies a transformation to the macro-particles coordinates."
      ],
      "metadata": {
        "id": "N09YgveY55Qc"
      }
    },
    {
      "cell_type": "code",
      "source": [
        "from time import time\n",
        "from mbtrack2.tracking import LongitudinalMap, RFCavity, SynchrotronRadiation, TransverseMap"
      ],
      "metadata": {
        "id": "1B4FWH3oKA3m"
      },
      "execution_count": 34,
      "outputs": []
    },
    {
      "cell_type": "markdown",
      "source": [
        "For example, the `LongitudinalMap` element applies the following transform:\n",
        "+ $\\tau = \\tau + \\eta T_0 \\delta $ \n",
        "+ $\\delta = \\delta - \\frac{U_0}{E_0}$\n",
        "\n",
        "Which corresponds to the transformation of the longitudinal coordinates ($\\tau$, $\\delta$) undergoes during a full turn in the synchrotron."
      ],
      "metadata": {
        "id": "voyxGQfF61pb"
      }
    },
    {
      "cell_type": "code",
      "source": [
        "LongMap = LongitudinalMap(ring) # define the LongitudinalMap element with the ring parameters\n",
        "mybunch = Bunch(ring, mp_number=1e3, current=1e-3)\n",
        "mybunch.init_gaussian()\n",
        "print(mybunch[\"tau\"][:4])\n",
        "print(mybunch[\"delta\"][:4])"
      ],
      "metadata": {
        "id": "hZJ-vdJmKWK6",
        "colab": {
          "base_uri": "https://localhost:8080/"
        },
        "outputId": "a307229a-24b4-46b4-8617-4b8b0e9e5231"
      },
      "execution_count": 35,
      "outputs": [
        {
          "output_type": "stream",
          "name": "stdout",
          "text": [
            "[-8.42355324e-12 -2.29968655e-11 -1.70509249e-12 -2.65110900e-12]\n",
            "[-1.24853490e-05 -6.38947506e-05 -4.47259235e-04  1.21871292e-05]\n"
          ]
        }
      ]
    },
    {
      "cell_type": "markdown",
      "source": [
        "Tracking the `Bunch` object through the `LongitudinalMap` is done by calling its `track` method with the `Bunch` object as argument."
      ],
      "metadata": {
        "id": "usQ3ju5copUP"
      }
    },
    {
      "cell_type": "code",
      "source": [
        "LongMap.track(mybunch)\n",
        "print(mybunch[\"tau\"][:4])\n",
        "print(mybunch[\"delta\"][:4])"
      ],
      "metadata": {
        "colab": {
          "base_uri": "https://localhost:8080/"
        },
        "id": "RjbOCdSnoIzn",
        "outputId": "dcc935e5-e028-4aa4-c895-a2951b8ea06f"
      },
      "execution_count": 36,
      "outputs": [
        {
          "output_type": "stream",
          "name": "stdout",
          "text": [
            "[-8.56937192e-12 -2.31940936e-11 -2.28568506e-12 -2.77225520e-12]\n",
            "[-0.00014582 -0.00019723 -0.00058059 -0.00012115]\n"
          ]
        }
      ]
    },
    {
      "cell_type": "markdown",
      "source": [
        "In a similar way, the `RFCavity` element applies:\n",
        "\n",
        "$\\delta = \\delta +  \\frac{V_c}{E_0} \\cos(m \\omega_1 \\tau + \\theta)$"
      ],
      "metadata": {
        "id": "xIN0ZXla6PsU"
      }
    },
    {
      "cell_type": "code",
      "source": [
        "RF = RFCavity(ring, m=1, Vc=1e6, theta=np.arccos(ring.U0/1e6))"
      ],
      "metadata": {
        "id": "-R_INXI-KaJW"
      },
      "execution_count": 37,
      "outputs": []
    },
    {
      "cell_type": "markdown",
      "source": [
        "The `SynchrotronRadiation` element applies:\n",
        "\n",
        "$z = \\delta, x', y'$\n",
        "\n",
        "\\begin{equation}\n",
        "    z = \\left (1 - \\frac{2 T_0}{\\tau_z} \\right) z + 2 \\sigma_{z} \\sqrt{\\frac{T_0}{\\tau_z}} \\times \\epsilon\n",
        "\\end{equation}\n",
        "\n",
        "Where $z$ is a generic coordinate which can be $\\delta$, $x'$ or $y'$."
      ],
      "metadata": {
        "id": "5_BDWbbiD4fI"
      }
    },
    {
      "cell_type": "code",
      "source": [
        "SR = SynchrotronRadiation(ring)"
      ],
      "metadata": {
        "id": "_IE_nYL8KrB3"
      },
      "execution_count": 38,
      "outputs": []
    },
    {
      "cell_type": "markdown",
      "source": [
        "The `TransverseMap` element applies:\n",
        "\n",
        "\\begin{equation}\n",
        "\\Delta \\mu = 2 \\pi (Q + \\xi \\delta)\n",
        "\\end{equation}\n",
        "\n",
        "\\begin{equation}\n",
        "    M = M_{s_0 \\rightarrow s_0} =\n",
        "    \\begin{bmatrix}\n",
        "        \\cos(\\Delta \\mu) + \\alpha_0 \\sin(\\Delta \\mu) & \\beta_0 \\sin(\\Delta \\mu) & D_0 \\\\\n",
        "        - \\gamma_0 \\sin(\\Delta \\mu) & \\cos(\\Delta \\mu) - \\alpha_0 \\sin(\\Delta \\mu) & D_0'\n",
        "    \\end{bmatrix}\n",
        "\\end{equation}\n",
        "\n",
        "\\begin{equation}\n",
        "    \\begin{bmatrix}\n",
        "        z\\\\\n",
        "        z'\n",
        "    \\end{bmatrix}\n",
        "    =\n",
        "    M\n",
        "    \\begin{bmatrix}\n",
        "        z\\\\\n",
        "        z'\n",
        "    \\end{bmatrix}\n",
        "\\end{equation}\n",
        "\n",
        "Where $z$ is a generic coordinate which can be $x$ or $y$."
      ],
      "metadata": {
        "id": "YYQ3QBMR_HUQ"
      }
    },
    {
      "cell_type": "code",
      "source": [
        "TransMap = TransverseMap(ring)"
      ],
      "metadata": {
        "id": "SZGpmbe2q4yf"
      },
      "execution_count": 39,
      "outputs": []
    },
    {
      "cell_type": "markdown",
      "source": [
        "Tracking for many turns in then done by writing a python script using a for loop"
      ],
      "metadata": {
        "id": "SlDlcXVHkzW4"
      }
    },
    {
      "cell_type": "code",
      "source": [
        "turns = 100\n",
        "t1 = time()\n",
        "for i in range(turns):\n",
        "  LongMap.track(mybunch)\n",
        "  SR.track(mybunch)\n",
        "  TransMap.track(mybunch)\n",
        "  RF.track(mybunch)\n",
        "t2 = time()\n",
        "print(t2-t1)"
      ],
      "metadata": {
        "colab": {
          "base_uri": "https://localhost:8080/"
        },
        "id": "1zJFHqgwkZKY",
        "outputId": "c8b1c43b-3204-4ca3-e757-7d9899520014"
      },
      "execution_count": 40,
      "outputs": [
        {
          "output_type": "stream",
          "name": "stdout",
          "text": [
            "0.13397836685180664\n"
          ]
        }
      ]
    },
    {
      "cell_type": "markdown",
      "source": [
        "Tracking methods can be used indiscriminately on `Bunch` or `Beam` objects "
      ],
      "metadata": {
        "id": "ICxTFwCJjmqp"
      }
    },
    {
      "cell_type": "code",
      "source": [
        "filling_pattern = np.ones(ring.h)*1e-3 # uniform beam with 1 mA per bunch\n",
        "mybeam = Beam(ring)\n",
        "mybeam.init_beam(filling_pattern, mp_per_bunch=1e3)"
      ],
      "metadata": {
        "id": "ZpkQ7e-2xT7y"
      },
      "execution_count": 41,
      "outputs": []
    },
    {
      "cell_type": "markdown",
      "source": [
        "Tracking with `Beam` object can be quite long as the code does an internal loop over all the `Bunch` objects:"
      ],
      "metadata": {
        "id": "AjdjBpk1iu3j"
      }
    },
    {
      "cell_type": "code",
      "source": [
        "turns = 100\n",
        "t1 = time()\n",
        "for i in range(turns):\n",
        "  LongMap.track(mybeam)\n",
        "  SR.track(mybeam)\n",
        "  TransMap.track(mybeam)\n",
        "  RF.track(mybeam)\n",
        "t2 = time()\n",
        "print(t2-t1)"
      ],
      "metadata": {
        "id": "OaJIa4oaIugh",
        "colab": {
          "base_uri": "https://localhost:8080/"
        },
        "outputId": "f973bc4a-9ed6-4483-8236-6acc758f647a"
      },
      "execution_count": 42,
      "outputs": [
        {
          "output_type": "stream",
          "name": "stdout",
          "text": [
            "2.0783205032348633\n"
          ]
        }
      ]
    },
    {
      "cell_type": "markdown",
      "source": [
        "## Using MPI"
      ],
      "metadata": {
        "id": "YqJtFL_OIvSq"
      }
    },
    {
      "cell_type": "markdown",
      "source": [
        "MPI can be used to speed up the tracking when using a `Beam` object by distributing the different `Bunch` objects in different cores.\n",
        "\n",
        "To be able to use this feature, **the python code must be run with as many core as there is of `Bunch` objects in the `Beam`.**"
      ],
      "metadata": {
        "id": "KmnutEIbrZgf"
      }
    },
    {
      "cell_type": "markdown",
      "source": [
        "MPI parallelisation can be enabled during ``Beam`` initialization by setting the ``mpi`` option to ``True``:"
      ],
      "metadata": {
        "id": "dQLd4_Rym5oz"
      }
    },
    {
      "cell_type": "markdown",
      "source": [
        "\n",
        "\n",
        "```\n",
        "mybeam = Beam(ring)\n",
        "mybeam.init_beam(filling_pattern, mp_per_bunch=1e3, mpi=True)\n",
        "```\n",
        "\n"
      ],
      "metadata": {
        "id": "Le0RaqmJIeaO"
      }
    },
    {
      "cell_type": "markdown",
      "source": [
        "# Monitors"
      ],
      "metadata": {
        "id": "a_B5YgHFHaIA"
      }
    },
    {
      "cell_type": "markdown",
      "source": [
        "The ``Monitor`` class and subclasses are used to save tracking data into HDF5 files."
      ],
      "metadata": {
        "id": "O0D4eU01Jrs2"
      }
    },
    {
      "cell_type": "code",
      "source": [
        "from mbtrack2.tracking.monitors import BunchMonitor, BeamMonitor"
      ],
      "metadata": {
        "id": "IXvFc9gZL5Vc"
      },
      "execution_count": 43,
      "outputs": []
    },
    {
      "cell_type": "code",
      "source": [
        "bunchmonitor = BunchMonitor(bunch_number=0, total_size=100, save_every=1, buffer_size=10, mpi_mode=False, file_name=\"tracking\")\n",
        "beammonitor = BeamMonitor(ring.h, total_size=100, save_every=1, buffer_size=10, mpi_mode=False)"
      ],
      "metadata": {
        "id": "5fEfD7M0Hb_A"
      },
      "execution_count": 44,
      "outputs": []
    },
    {
      "cell_type": "code",
      "source": [
        "for i in range(turns):\n",
        "  LongMap.track(mybeam)\n",
        "  SR.track(mybeam)\n",
        "  TransMap.track(mybeam)\n",
        "  RF.track(mybeam)\n",
        "  bunchmonitor.track(mybeam)\n",
        "  beammonitor.track(mybeam)\n",
        "bunchmonitor.close()"
      ],
      "metadata": {
        "id": "Nx0jrcSxL2MN"
      },
      "execution_count": 45,
      "outputs": []
    },
    {
      "cell_type": "code",
      "source": [
        ""
      ],
      "metadata": {
        "id": "pt3J_YI6Th-O"
      },
      "execution_count": 45,
      "outputs": []
    },
    {
      "cell_type": "markdown",
      "source": [
        "The tracking data can then be used  "
      ],
      "metadata": {
        "id": "KjIYMfH4Ti1Z"
      }
    },
    {
      "cell_type": "code",
      "source": [
        "import h5py as hp"
      ],
      "metadata": {
        "id": "XlN6ZOVYUehV"
      },
      "execution_count": 46,
      "outputs": []
    },
    {
      "cell_type": "code",
      "source": [
        "file = hp.File(\"tracking.hdf5\",\"r\")"
      ],
      "metadata": {
        "id": "G7GxJNryUx8u"
      },
      "execution_count": 47,
      "outputs": []
    },
    {
      "cell_type": "code",
      "source": [
        "list(file)"
      ],
      "metadata": {
        "id": "dBx5xVOGU4x-",
        "outputId": "3b8e54e9-88f2-4f19-9b54-52e6392b2ba7",
        "colab": {
          "base_uri": "https://localhost:8080/"
        }
      },
      "execution_count": 48,
      "outputs": [
        {
          "output_type": "execute_result",
          "data": {
            "text/plain": [
              "['Beam', 'BunchData_0']"
            ]
          },
          "metadata": {},
          "execution_count": 48
        }
      ]
    },
    {
      "cell_type": "code",
      "source": [
        "list(file[\"Beam\"])"
      ],
      "metadata": {
        "id": "innjiKx7XfEf",
        "outputId": "d4144174-9f61-4430-c5f6-1a6d1ff6e365",
        "colab": {
          "base_uri": "https://localhost:8080/"
        }
      },
      "execution_count": 58,
      "outputs": [
        {
          "output_type": "execute_result",
          "data": {
            "text/plain": [
              "['current', 'emit', 'mean', 'std', 'time']"
            ]
          },
          "metadata": {},
          "execution_count": 58
        }
      ]
    },
    {
      "cell_type": "code",
      "source": [
        "np.array(file[\"Beam\"][\"emit\"][0,:,:])"
      ],
      "metadata": {
        "id": "Z1W-9Fg8WAUe",
        "outputId": "c949d6a2-7444-42da-f0a2-030190fbac51",
        "colab": {
          "base_uri": "https://localhost:8080/"
        }
      },
      "execution_count": 59,
      "outputs": [
        {
          "output_type": "execute_result",
          "data": {
            "text/plain": [
              "array([[1.01929531e-08, 1.01841893e-08, 1.02084515e-08, ...,\n",
              "        1.04054464e-08, 1.04193186e-08, 1.04361216e-08],\n",
              "       [1.02686433e-08, 1.02793828e-08, 1.02715758e-08, ...,\n",
              "        1.01413738e-08, 1.01563629e-08, 1.01623137e-08],\n",
              "       [9.73883444e-09, 9.75466519e-09, 9.75845728e-09, ...,\n",
              "        9.84924561e-09, 9.87690653e-09, 9.88545858e-09],\n",
              "       ...,\n",
              "       [1.02101618e-08, 1.02141626e-08, 1.02425166e-08, ...,\n",
              "        1.00598198e-08, 1.00842205e-08, 1.00929490e-08],\n",
              "       [1.02964016e-08, 1.02723049e-08, 1.02749879e-08, ...,\n",
              "        1.01901704e-08, 1.01872168e-08, 1.01784423e-08],\n",
              "       [9.84952380e-09, 9.84219563e-09, 9.83437829e-09, ...,\n",
              "        9.94089491e-09, 9.92973800e-09, 9.95445833e-09]])"
            ]
          },
          "metadata": {},
          "execution_count": 59
        }
      ]
    },
    {
      "cell_type": "markdown",
      "source": [
        "The tracking data can also directly be plotted using the functions provided in ``mbtrack2``:"
      ],
      "metadata": {
        "id": "8IBPZOBlVAXO"
      }
    },
    {
      "cell_type": "code",
      "source": [
        "from mbtrack2.tracking.monitors import plot_beamdata"
      ],
      "metadata": {
        "id": "FllM1qNtTiXu"
      },
      "execution_count": 50,
      "outputs": []
    },
    {
      "cell_type": "markdown",
      "source": [
        ""
      ],
      "metadata": {
        "id": "GE7Zc-aaU9CK"
      }
    },
    {
      "cell_type": "code",
      "source": [
        "fig = plot_beamdata(\"tracking.hdf5\",\"mean\",\"tau\",\"mean\") "
      ],
      "metadata": {
        "id": "pAmIY3JwTaMe",
        "outputId": "22fe26c2-507c-4832-8cdc-96574b3fbb8f",
        "colab": {
          "base_uri": "https://localhost:8080/",
          "height": 282
        }
      },
      "execution_count": 54,
      "outputs": [
        {
          "output_type": "display_data",
          "data": {
            "text/plain": [
              "<Figure size 432x288 with 1 Axes>"
            ],
            "image/png": "[encoded data removed]"
          },
          "metadata": {
            "needs_background": "light"
          }
        }
      ]
    },
    {
      "cell_type": "code",
      "source": [
        "fig = plot_beamdata(\"tracking.hdf5\",\"std\",\"tau\",\"mean\") "
      ],
      "metadata": {
        "id": "7y6rQp6CTe8-",
        "outputId": "6a5b4440-6bee-44c1-ab1e-75d3a0848426",
        "colab": {
          "base_uri": "https://localhost:8080/",
          "height": 279
        }
      },
      "execution_count": 56,
      "outputs": [
        {
          "output_type": "display_data",
          "data": {
            "text/plain": [
              "<Figure size 432x288 with 1 Axes>"
            ],
            "image/png": "[encoded data removed]"
          },
          "metadata": {
            "needs_background": "light"
          }
        }
      ]
    },
    {
      "cell_type": "code",
      "source": [
        ""
      ],
      "metadata": {
        "id": "n5c8Jn5jXPpu"
      },
      "execution_count": null,
      "outputs": []
    }
  ]
}